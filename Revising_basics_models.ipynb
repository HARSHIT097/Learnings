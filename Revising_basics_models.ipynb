{
  "nbformat": 4,
  "nbformat_minor": 0,
  "metadata": {
    "colab": {
      "name": "Revising_basics_models.ipynb",
      "provenance": [],
      "authorship_tag": "ABX9TyMnjrzxV38nzNnIstDCMeky",
      "include_colab_link": true
    },
    "kernelspec": {
      "name": "python3",
      "display_name": "Python 3"
    },
    "language_info": {
      "name": "python"
    }
  },
  "cells": [
    {
      "cell_type": "markdown",
      "metadata": {
        "id": "view-in-github",
        "colab_type": "text"
      },
      "source": [
        "<a href=\"https://colab.research.google.com/github/HARSHIT097/Learnings/blob/main/Revising_basics_models.ipynb\" target=\"_parent\"><img src=\"https://colab.research.google.com/assets/colab-badge.svg\" alt=\"Open In Colab\"/></a>"
      ]
    },
    {
      "cell_type": "markdown",
      "metadata": {
        "id": "aNzcOA4LkHIy"
      },
      "source": [
        "Steps\n",
        "\n",
        "1. import the libraries\n",
        "\n",
        "2. load/read the data\n",
        "        -- explore it\n",
        "\n",
        "3. have some analysis EDA -- univariate --bivariate\n",
        "          -- preprocess it \n",
        "          -- reshape  or make it fit for the model\n",
        "\n",
        "4. prepare the inputs\n",
        "      -- train test split\n",
        "\n",
        "5. call the model\n",
        "      model.compile\n",
        "\n",
        "6. model at work\n",
        "          --training\n",
        "          --model.fit\n",
        "\n",
        "7. Evaluation metrics\n",
        "\n",
        "8. predictions\n",
        "\n",
        "9. deployment(optional)"
      ]
    },
    {
      "cell_type": "markdown",
      "metadata": {
        "id": "q2k23CAIi35o"
      },
      "source": [
        "# Model-1 Linear Regression"
      ]
    },
    {
      "cell_type": "code",
      "metadata": {
        "id": "H6EF4JxoiwNS"
      },
      "source": [
        "#importing Libraries\n",
        "\n",
        "import numpy as np\n",
        "import pandas as pd\n",
        "import matplotlib.pyplot as plt\n",
        "from sklearn.linear_model import LinearRegression\n",
        "from sklearn.metrics import mean_squared_error\n",
        "import math"
      ],
      "execution_count": 1,
      "outputs": []
    },
    {
      "cell_type": "code",
      "metadata": {
        "colab": {
          "base_uri": "https://localhost:8080/",
          "height": 131
        },
        "id": "-5cJS-SQjBUv",
        "outputId": "857e96a1-94b8-4c30-ae5c-16a2df87b8bb"
      },
      "source": [
        "# read DataFrame\n",
        "house_data = pd.read_csv(\"https://raw.githubusercontent.com/HARSHIT097/Learnings/main/Datasets/Datasets/house_prices.csv\")\n",
        "house_data.head(2)"
      ],
      "execution_count": 2,
      "outputs": [
        {
          "output_type": "execute_result",
          "data": {
            "text/html": [
              "<div>\n",
              "<style scoped>\n",
              "    .dataframe tbody tr th:only-of-type {\n",
              "        vertical-align: middle;\n",
              "    }\n",
              "\n",
              "    .dataframe tbody tr th {\n",
              "        vertical-align: top;\n",
              "    }\n",
              "\n",
              "    .dataframe thead th {\n",
              "        text-align: right;\n",
              "    }\n",
              "</style>\n",
              "<table border=\"1\" class=\"dataframe\">\n",
              "  <thead>\n",
              "    <tr style=\"text-align: right;\">\n",
              "      <th></th>\n",
              "      <th>id</th>\n",
              "      <th>date</th>\n",
              "      <th>price</th>\n",
              "      <th>bedrooms</th>\n",
              "      <th>bathrooms</th>\n",
              "      <th>sqft_living</th>\n",
              "      <th>sqft_lot</th>\n",
              "      <th>floors</th>\n",
              "      <th>waterfront</th>\n",
              "      <th>view</th>\n",
              "      <th>condition</th>\n",
              "      <th>grade</th>\n",
              "      <th>sqft_above</th>\n",
              "      <th>sqft_basement</th>\n",
              "      <th>yr_built</th>\n",
              "      <th>yr_renovated</th>\n",
              "      <th>zipcode</th>\n",
              "      <th>lat</th>\n",
              "      <th>long</th>\n",
              "      <th>sqft_living15</th>\n",
              "      <th>sqft_lot15</th>\n",
              "    </tr>\n",
              "  </thead>\n",
              "  <tbody>\n",
              "    <tr>\n",
              "      <th>0</th>\n",
              "      <td>7129300520</td>\n",
              "      <td>20141013T000000</td>\n",
              "      <td>221900.0</td>\n",
              "      <td>3</td>\n",
              "      <td>1.00</td>\n",
              "      <td>1180</td>\n",
              "      <td>5650</td>\n",
              "      <td>1.0</td>\n",
              "      <td>0</td>\n",
              "      <td>0</td>\n",
              "      <td>3</td>\n",
              "      <td>7</td>\n",
              "      <td>1180</td>\n",
              "      <td>0</td>\n",
              "      <td>1955</td>\n",
              "      <td>0</td>\n",
              "      <td>98178</td>\n",
              "      <td>47.5112</td>\n",
              "      <td>-122.257</td>\n",
              "      <td>1340</td>\n",
              "      <td>5650</td>\n",
              "    </tr>\n",
              "    <tr>\n",
              "      <th>1</th>\n",
              "      <td>6414100192</td>\n",
              "      <td>20141209T000000</td>\n",
              "      <td>538000.0</td>\n",
              "      <td>3</td>\n",
              "      <td>2.25</td>\n",
              "      <td>2570</td>\n",
              "      <td>7242</td>\n",
              "      <td>2.0</td>\n",
              "      <td>0</td>\n",
              "      <td>0</td>\n",
              "      <td>3</td>\n",
              "      <td>7</td>\n",
              "      <td>2170</td>\n",
              "      <td>400</td>\n",
              "      <td>1951</td>\n",
              "      <td>1991</td>\n",
              "      <td>98125</td>\n",
              "      <td>47.7210</td>\n",
              "      <td>-122.319</td>\n",
              "      <td>1690</td>\n",
              "      <td>7639</td>\n",
              "    </tr>\n",
              "  </tbody>\n",
              "</table>\n",
              "</div>"
            ],
            "text/plain": [
              "           id             date     price  ...     long  sqft_living15  sqft_lot15\n",
              "0  7129300520  20141013T000000  221900.0  ... -122.257           1340        5650\n",
              "1  6414100192  20141209T000000  538000.0  ... -122.319           1690        7639\n",
              "\n",
              "[2 rows x 21 columns]"
            ]
          },
          "metadata": {
            "tags": []
          },
          "execution_count": 2
        }
      ]
    },
    {
      "cell_type": "code",
      "metadata": {
        "id": "BNuzxOOMjNCD"
      },
      "source": [
        "size = house_data['sqft_living']\n",
        "price = house_data['price']"
      ],
      "execution_count": 3,
      "outputs": []
    },
    {
      "cell_type": "code",
      "metadata": {
        "id": "NWFPbSAZjavh"
      },
      "source": [
        "# machine learning handle arrays not data-frames\n",
        "x = np.array(size).reshape(-1, 1)\n",
        "y = np.array(price).reshape(-1, 1)"
      ],
      "execution_count": 4,
      "outputs": []
    },
    {
      "cell_type": "code",
      "metadata": {
        "colab": {
          "base_uri": "https://localhost:8080/"
        },
        "id": "jOQgLDpYjfKs",
        "outputId": "818f615f-d62a-48fd-9cb8-afca59a22ce9"
      },
      "source": [
        "# we use Linear Regression + fit() is the training\n",
        "model = LinearRegression()\n",
        "model.fit(x, y)"
      ],
      "execution_count": 5,
      "outputs": [
        {
          "output_type": "execute_result",
          "data": {
            "text/plain": [
              "LinearRegression(copy_X=True, fit_intercept=True, n_jobs=None, normalize=False)"
            ]
          },
          "metadata": {
            "tags": []
          },
          "execution_count": 5
        }
      ]
    },
    {
      "cell_type": "code",
      "metadata": {
        "colab": {
          "base_uri": "https://localhost:8080/"
        },
        "id": "81dlv_QUjhm9",
        "outputId": "7ed6b30e-4d6a-4342-f852-77efa26ed674"
      },
      "source": [
        "# MSE and R value\n",
        "regression_model_mse = mean_squared_error(x, y)\n",
        "print(\"MSE: \", math.sqrt(regression_model_mse))\n",
        "print(\"R squared value:\", model.score(x, y))"
      ],
      "execution_count": 6,
      "outputs": [
        {
          "output_type": "stream",
          "text": [
            "MSE:  650965.7788663033\n",
            "R squared value: 0.49285321790379316\n"
          ],
          "name": "stdout"
        }
      ]
    },
    {
      "cell_type": "code",
      "metadata": {
        "colab": {
          "base_uri": "https://localhost:8080/"
        },
        "id": "Jk7fUduYjkCm",
        "outputId": "96f80acd-aa65-4bd0-adfa-25f8d605ebb6"
      },
      "source": [
        "# we can get the b values after the model fit\n",
        "# this is the b1\n",
        "print(model.coef_[0])\n",
        "# this is b0 in our model\n",
        "print(model.intercept_[0])"
      ],
      "execution_count": 7,
      "outputs": [
        {
          "output_type": "stream",
          "text": [
            "[280.6235679]\n",
            "-43580.74309447396\n"
          ],
          "name": "stdout"
        }
      ]
    },
    {
      "cell_type": "code",
      "metadata": {
        "colab": {
          "base_uri": "https://localhost:8080/",
          "height": 295
        },
        "id": "XAD6GLktjpYY",
        "outputId": "4ecd6faa-3707-4872-9e9f-d4c21d2a7f8e"
      },
      "source": [
        "# visualize the data-set with the fitted model\n",
        "plt.scatter(x, y, color='green')\n",
        "plt.plot(x, model.predict(x), color='black')\n",
        "plt.title(\"Linear Regression\")\n",
        "plt.xlabel(\"Size\")\n",
        "plt.ylabel(\"Price\")\n",
        "plt.show()"
      ],
      "execution_count": 8,
      "outputs": [
        {
          "output_type": "display_data",
          "data": {
            "image/png": "[encoded data removed]",
            "text/plain": [
              "<Figure size 432x288 with 1 Axes>"
            ]
          },
          "metadata": {
            "tags": [],
            "needs_background": "light"
          }
        }
      ]
    },
    {
      "cell_type": "code",
      "metadata": {
        "colab": {
          "base_uri": "https://localhost:8080/"
        },
        "id": "N75upHvEjtXZ",
        "outputId": "d6d6b213-ff3b-4e33-d253-7fe9b02f5bbb"
      },
      "source": [
        "# Predicting the prices\n",
        "print(\"Prediction by the model: \", model.predict([[2000]]))"
      ],
      "execution_count": 9,
      "outputs": [
        {
          "output_type": "stream",
          "text": [
            "Prediction by the model:  [[517666.39270042]]\n"
          ],
          "name": "stdout"
        }
      ]
    },
    {
      "cell_type": "code",
      "metadata": {
        "id": "-441FMOojv24"
      },
      "source": [
        ""
      ],
      "execution_count": null,
      "outputs": []
    },
    {
      "cell_type": "markdown",
      "metadata": {
        "id": "duqzGN8LpUSg"
      },
      "source": [
        "# Model -2 Logistic Regression"
      ]
    },
    {
      "cell_type": "code",
      "metadata": {
        "id": "BSYxKbxSp9Dq"
      },
      "source": [
        ""
      ],
      "execution_count": null,
      "outputs": []
    }
  ]
}