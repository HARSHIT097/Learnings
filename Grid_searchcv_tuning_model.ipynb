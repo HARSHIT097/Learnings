{
  "nbformat": 4,
  "nbformat_minor": 0,
  "metadata": {
    "colab": {
      "name": "Grid_searchcv_tuning_model.ipynb",
      "provenance": [],
      "authorship_tag": "ABX9TyN/HKM6a/nMGzInbfg9SInd",
      "include_colab_link": true
    },
    "kernelspec": {
      "name": "python3",
      "display_name": "Python 3"
    },
    "language_info": {
      "name": "python"
    }
  },
  "cells": [
    {
      "cell_type": "markdown",
      "metadata": {
        "id": "view-in-github",
        "colab_type": "text"
      },
      "source": [
        "<a href=\"https://colab.research.google.com/github/HARSHIT097/Learnings/blob/main/Grid_searchcv_tuning_model.ipynb\" target=\"_parent\"><img src=\"https://colab.research.google.com/assets/colab-badge.svg\" alt=\"Open In Colab\"/></a>"
      ]
    },
    {
      "cell_type": "code",
      "metadata": {
        "id": "aH3kJi9YJFW8"
      },
      "source": [
        "#Importing the Libraries\n",
        "\n",
        "import pandas as pd\n",
        "\n",
        "from sklearn.ensemble import RandomForestClassifier\n",
        "\n",
        "from sklearn.model_selection import train_test_split\n",
        "\n",
        "from sklearn.model_selection import GridSearchCV\n",
        "\n",
        "from sklearn import metrics\n",
        "\n",
        "import warnings\n",
        "\n",
        "warnings.filterwarnings('ignore')"
      ],
      "execution_count": 1,
      "outputs": []
    },
    {
      "cell_type": "code",
      "metadata": {
        "id": "ZupnnKjYJTl1"
      },
      "source": [
        "#Importing the datasets\n",
        "df = pd.read_csv('heart.csv')"
      ],
      "execution_count": 2,
      "outputs": []
    },
    {
      "cell_type": "code",
      "metadata": {
        "id": "Z7u22bzAJdmd"
      },
      "source": [
        "#Specifying Independent and Dependent Variables\n",
        "\n",
        "X = df.drop('target', axis = 1)\n",
        "\n",
        "y = df['target']"
      ],
      "execution_count": 3,
      "outputs": []
    },
    {
      "cell_type": "code",
      "metadata": {
        "id": "IY0lfgfQJica"
      },
      "source": [
        "#Splitting the data into train and test set\n",
        "\n",
        "X_train, X_test, y_train, y_test = train_test_split(X, y, test_size = 0.3, random_state = 42)\n",
        " "
      ],
      "execution_count": 4,
      "outputs": []
    },
    {
      "cell_type": "code",
      "metadata": {
        "id": "DY7zjCqTJn9H"
      },
      "source": [
        "#Building Random Forest Classifier\n",
        "rfc = RandomForestClassifier()"
      ],
      "execution_count": 5,
      "outputs": []
    },
    {
      "cell_type": "markdown",
      "metadata": {
        "id": "HzWOObVoJ0kM"
      },
      "source": [
        "rfc as an estimator, forest_params as param_grid, cv = 10 and accuracy as scoring technique into GridSearchCV() as arguments."
      ]
    },
    {
      "cell_type": "code",
      "metadata": {
        "colab": {
          "base_uri": "https://localhost:8080/"
        },
        "id": "DwGNXVkeJtS2",
        "outputId": "c55ed38d-fd3b-45bc-87dc-b7e58fdc6fcf"
      },
      "source": [
        "#Initializing GridSearchCV() object and fitting it with hyperparameters\n",
        "\n",
        "forest_params = [{'max_depth': list(range(10, 15)), 'max_features': list(range(0,14))}]\n",
        "\n",
        "clf = GridSearchCV(rfc, forest_params, cv = 10, scoring='accuracy')\n",
        "\n",
        "clf.fit(X_train, y_train)"
      ],
      "execution_count": 6,
      "outputs": [
        {
          "output_type": "execute_result",
          "data": {
            "text/plain": [
              "GridSearchCV(cv=10, error_score=nan,\n",
              "             estimator=RandomForestClassifier(bootstrap=True, ccp_alpha=0.0,\n",
              "                                              class_weight=None,\n",
              "                                              criterion='gini', max_depth=None,\n",
              "                                              max_features='auto',\n",
              "                                              max_leaf_nodes=None,\n",
              "                                              max_samples=None,\n",
              "                                              min_impurity_decrease=0.0,\n",
              "                                              min_impurity_split=None,\n",
              "                                              min_samples_leaf=1,\n",
              "                                              min_samples_split=2,\n",
              "                                              min_weight_fraction_leaf=0.0,\n",
              "                                              n_estimators=100, n_jobs=None,\n",
              "                                              oob_score=False,\n",
              "                                              random_state=None, verbose=0,\n",
              "                                              warm_start=False),\n",
              "             iid='deprecated', n_jobs=None,\n",
              "             param_grid=[{'max_depth': [10, 11, 12, 13, 14],\n",
              "                          'max_features': [0, 1, 2, 3, 4, 5, 6, 7, 8, 9, 10, 11,\n",
              "                                           12, 13]}],\n",
              "             pre_dispatch='2*n_jobs', refit=True, return_train_score=False,\n",
              "             scoring='accuracy', verbose=0)"
            ]
          },
          "metadata": {
            "tags": []
          },
          "execution_count": 6
        }
      ]
    },
    {
      "cell_type": "code",
      "metadata": {
        "colab": {
          "base_uri": "https://localhost:8080/"
        },
        "id": "FIAmAjnoJz8K",
        "outputId": "7e41505b-ef3d-4849-cce1-2f7c4f346f2c"
      },
      "source": [
        "#Getting the Best Hyperparameters\n",
        "\n",
        "print(clf.best_params_)"
      ],
      "execution_count": 9,
      "outputs": [
        {
          "output_type": "stream",
          "text": [
            "{'max_depth': 10, 'max_features': 1}\n"
          ],
          "name": "stdout"
        }
      ]
    },
    {
      "cell_type": "code",
      "metadata": {
        "colab": {
          "base_uri": "https://localhost:8080/"
        },
        "id": "Hge8aoMtKEI7",
        "outputId": "e840a459-1477-4082-8900-3f2731b49e76"
      },
      "source": [
        "print(clf.best_score_)"
      ],
      "execution_count": 10,
      "outputs": [
        {
          "output_type": "stream",
          "text": [
            "0.8484848484848484\n"
          ],
          "name": "stdout"
        }
      ]
    },
    {
      "cell_type": "markdown",
      "metadata": {
        "id": "1J6CuJfsKJ21"
      },
      "source": [
        "After tuning the model, we got the best hyperparameters values for max_depth = 11 and max_features = 1. The best score came out to be approximately 0.843 \n",
        "\n",
        "Note that this best score is the average cross-validated performance score."
      ]
    },
    {
      "cell_type": "code",
      "metadata": {
        "colab": {
          "base_uri": "https://localhost:8080/"
        },
        "id": "UiI5G3Y0KLEC",
        "outputId": "72375541-b15e-42c0-b3ce-4498a96344ce"
      },
      "source": [
        "#A. Tuned Model:\n",
        "print(metrics.classification_report(y_test, clf.predict(X_test)))"
      ],
      "execution_count": 11,
      "outputs": [
        {
          "output_type": "stream",
          "text": [
            "              precision    recall  f1-score   support\n",
            "\n",
            "           0       0.82      0.80      0.81        41\n",
            "           1       0.84      0.86      0.85        50\n",
            "\n",
            "    accuracy                           0.84        91\n",
            "   macro avg       0.83      0.83      0.83        91\n",
            "weighted avg       0.83      0.84      0.83        91\n",
            "\n"
          ],
          "name": "stdout"
        }
      ]
    },
    {
      "cell_type": "code",
      "metadata": {
        "colab": {
          "base_uri": "https://localhost:8080/"
        },
        "id": "6OQSCX8LKQt6",
        "outputId": "9ba30563-8816-4038-cc9c-e9b0918e0cb0"
      },
      "source": [
        "#B. Untuned Model\n",
        "rfc.fit(X_train, y_train)\n",
        "print(metrics.classification_report(y_test, rfc.predict(X_test)))"
      ],
      "execution_count": 12,
      "outputs": [
        {
          "output_type": "stream",
          "text": [
            "              precision    recall  f1-score   support\n",
            "\n",
            "           0       0.82      0.78      0.80        41\n",
            "           1       0.83      0.86      0.84        50\n",
            "\n",
            "    accuracy                           0.82        91\n",
            "   macro avg       0.82      0.82      0.82        91\n",
            "weighted avg       0.82      0.82      0.82        91\n",
            "\n"
          ],
          "name": "stdout"
        }
      ]
    },
    {
      "cell_type": "code",
      "metadata": {
        "colab": {
          "base_uri": "https://localhost:8080/"
        },
        "id": "RqvH9NHBKck0",
        "outputId": "d9313528-6151-4288-bbf6-2c2e33cfb498"
      },
      "source": [
        "#1. Decision Tree Classifier\n",
        "\n",
        "from sklearn.tree import DecisionTreeClassifier\n",
        "dtc = DecisionTreeClassifier()\n",
        "tuned_param = [{'max_depth': list(range(10, 15)), 'max_features': list(range(0,14))}]\n",
        "clf_dtc = GridSearchCV(dtc, cv = 10, param_grid = tuned_param, scoring = 'accuracy')\n",
        "clf_dtc.fit(X_train, y_train)\n",
        "print(clf_dtc.best_params_)\n",
        "print(clf_dtc.best_score_)"
      ],
      "execution_count": 13,
      "outputs": [
        {
          "output_type": "stream",
          "text": [
            "{'max_depth': 11, 'max_features': 10}\n",
            "0.796969696969697\n"
          ],
          "name": "stdout"
        }
      ]
    },
    {
      "cell_type": "markdown",
      "metadata": {
        "id": "MoS9UdpdKpaF"
      },
      "source": [
        "dtc as estimator, tuned_param as param_grid, cv = 10 and accuracy as scoring technique into GridSearchCV() as arguments.\n",
        "\n",
        "After tuning the Decision Tree Classifier, we got the best hyperparameters values for max_depth = 11 and for max_features = 7. The best score came out to be approximately 0.778\n",
        "\n",
        "Note that this best score is the average cross-validated performance score."
      ]
    },
    {
      "cell_type": "code",
      "metadata": {
        "colab": {
          "base_uri": "https://localhost:8080/"
        },
        "id": "Ru7Tl94tKhWu",
        "outputId": "cc2190f8-27f2-4912-c801-63a4479768a7"
      },
      "source": [
        "#A. Tuned Model:\n",
        "\n",
        "print(metrics.classification_report(y_test, clf_dtc.predict(X_test)))\n"
      ],
      "execution_count": 15,
      "outputs": [
        {
          "output_type": "stream",
          "text": [
            "              precision    recall  f1-score   support\n",
            "\n",
            "           0       0.65      0.76      0.70        41\n",
            "           1       0.77      0.66      0.71        50\n",
            "\n",
            "    accuracy                           0.70        91\n",
            "   macro avg       0.71      0.71      0.70        91\n",
            "weighted avg       0.71      0.70      0.70        91\n",
            "\n"
          ],
          "name": "stdout"
        }
      ]
    },
    {
      "cell_type": "markdown",
      "metadata": {
        "id": "JiYLF54oKzPZ"
      },
      "source": [
        "For the Tuned Decision Tree Classifier, the accuracy is 75% which is lower than the Tuned Random Forest Classifier (85%)."
      ]
    },
    {
      "cell_type": "code",
      "metadata": {
        "colab": {
          "base_uri": "https://localhost:8080/"
        },
        "id": "_hTIdnUnKus9",
        "outputId": "afe4c419-0401-4f04-ee10-c5725efc341d"
      },
      "source": [
        "#B. Untuned Model\n",
        "\n",
        "dtc.fit(X_train, y_train)\n",
        "print(metrics.classification_report(y_test, dtc.predict(X_test)))"
      ],
      "execution_count": 16,
      "outputs": [
        {
          "output_type": "stream",
          "text": [
            "              precision    recall  f1-score   support\n",
            "\n",
            "           0       0.68      0.78      0.73        41\n",
            "           1       0.80      0.70      0.74        50\n",
            "\n",
            "    accuracy                           0.74        91\n",
            "   macro avg       0.74      0.74      0.74        91\n",
            "weighted avg       0.74      0.74      0.74        91\n",
            "\n"
          ],
          "name": "stdout"
        }
      ]
    },
    {
      "cell_type": "code",
      "metadata": {
        "colab": {
          "base_uri": "https://localhost:8080/"
        },
        "id": "eOf-nV54K20E",
        "outputId": "d87e9ab0-d6ab-4c2e-b19b-c5ed3e0c8654"
      },
      "source": [
        "#2. K-Nearest Neighbor Classifier\n",
        "\n",
        "from sklearn.neighbors import KNeighborsClassifier\n",
        "knn = KNeighborsClassifier()\n",
        "params = [{'n_neighbors': range(5,10),'metric': ['canberra', 'euclidean', 'minkowski']}]\n",
        "clf_knn = GridSearchCV(knn, cv = 10, param_grid = params, scoring = 'accuracy')\n",
        "clf_knn.fit(X_train, y_train)\n",
        "print(clf_knn.best_params_)"
      ],
      "execution_count": 17,
      "outputs": [
        {
          "output_type": "stream",
          "text": [
            "{'metric': 'canberra', 'n_neighbors': 5}\n"
          ],
          "name": "stdout"
        }
      ]
    },
    {
      "cell_type": "markdown",
      "metadata": {
        "id": "bEAtDpjzK_c4"
      },
      "source": [
        "the knn as an estimator, params as param_grid, cv = 10, and accuracy as a scoring technique into GridSearchCV() as arguments.\n",
        "\n",
        "After tuning the K-Nearest Neighbor Classifier, we got the best hyperparameters values for metric = ‘canberra’ and for n_neighbors = 5. The best score came out to be approximately 0.834\n",
        "\n",
        "Note that this best score is the average cross-validated performance score."
      ]
    },
    {
      "cell_type": "code",
      "metadata": {
        "colab": {
          "base_uri": "https://localhost:8080/"
        },
        "id": "r8bb0PF5K-Vv",
        "outputId": "93bdf4f2-9596-4dd0-e154-7baabeb4bafb"
      },
      "source": [
        "#A. Tuned Model:\n",
        "\n",
        "print(metrics.classification_report(y_test, clf_knn.predict(X_test)))"
      ],
      "execution_count": 18,
      "outputs": [
        {
          "output_type": "stream",
          "text": [
            "              precision    recall  f1-score   support\n",
            "\n",
            "           0       0.77      0.80      0.79        41\n",
            "           1       0.83      0.80      0.82        50\n",
            "\n",
            "    accuracy                           0.80        91\n",
            "   macro avg       0.80      0.80      0.80        91\n",
            "weighted avg       0.80      0.80      0.80        91\n",
            "\n"
          ],
          "name": "stdout"
        }
      ]
    },
    {
      "cell_type": "markdown",
      "metadata": {
        "id": "eSXB8PXRLFSA"
      },
      "source": [
        "For the Tuned KNN Classifier, the accuracy is 80% which is lower than the Tuned Random Forest Classifier (85%) but higher than the Tuned Decision Tree Classifier (75%).\n",
        "\n",
        " "
      ]
    },
    {
      "cell_type": "code",
      "metadata": {
        "colab": {
          "base_uri": "https://localhost:8080/"
        },
        "id": "uMCmcwSgLDRl",
        "outputId": "ec35ec70-2446-4ae9-ee94-ea1b74381e02"
      },
      "source": [
        "#B. Untuned Model\n",
        "\n",
        "knn.fit(X_train, y_train)\n",
        "print(metrics.classification_report(y_test, knn.predict(X_test)))"
      ],
      "execution_count": 19,
      "outputs": [
        {
          "output_type": "stream",
          "text": [
            "              precision    recall  f1-score   support\n",
            "\n",
            "           0       0.63      0.59      0.61        41\n",
            "           1       0.68      0.72      0.70        50\n",
            "\n",
            "    accuracy                           0.66        91\n",
            "   macro avg       0.66      0.65      0.65        91\n",
            "weighted avg       0.66      0.66      0.66        91\n",
            "\n"
          ],
          "name": "stdout"
        }
      ]
    },
    {
      "cell_type": "markdown",
      "metadata": {
        "id": "URvM1gcOLK1S"
      },
      "source": [
        "For the Untuned KNN Classifier, the accuracy is 66% which is way lower than the Untuned Random Forest Classifier (81%) and Decision Tree Classifier (71%)"
      ]
    },
    {
      "cell_type": "markdown",
      "metadata": {
        "id": "7HRCPtGhLPNO"
      },
      "source": [
        "Interpretation of Best Scores\n",
        "Here, We created a summary table using Pandas DataFrame to compare the best scores side by side."
      ]
    },
    {
      "cell_type": "code",
      "metadata": {
        "colab": {
          "base_uri": "https://localhost:8080/"
        },
        "id": "eEsiBKo0LIqM",
        "outputId": "b0aa38ae-aace-4e73-dfa9-55722c3be033"
      },
      "source": [
        "df_best_scores = pd.DataFrame({'Estimators':['Random Forest', 'Decision Tree', 'KNN Classifier'], \n",
        "\n",
        "                               'Best Scores':['{0:.3f}'.format(clf.best_score_), '{0:.3f}'.format(clf_dtc.best_score_), '{0:.3f}'.format(clf_knn.best_score_)]})\n",
        "\n",
        "print(df_best_scores)"
      ],
      "execution_count": 20,
      "outputs": [
        {
          "output_type": "stream",
          "text": [
            "       Estimators Best Scores\n",
            "0   Random Forest       0.848\n",
            "1   Decision Tree       0.797\n",
            "2  KNN Classifier       0.834\n"
          ],
          "name": "stdout"
        }
      ]
    },
    {
      "cell_type": "code",
      "metadata": {
        "id": "IABuEXfSLSlo"
      },
      "source": [
        ""
      ],
      "execution_count": null,
      "outputs": []
    }
  ]
}