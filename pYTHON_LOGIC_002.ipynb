{
  "nbformat": 4,
  "nbformat_minor": 0,
  "metadata": {
    "colab": {
      "name": "pYTHON_LOGIC_002.ipynb",
      "provenance": [],
      "collapsed_sections": [],
      "toc_visible": true,
      "authorship_tag": "ABX9TyP692Nq/9QhY/rXuTZX0irH",
      "include_colab_link": true
    },
    "kernelspec": {
      "name": "python3",
      "display_name": "Python 3"
    }
  },
  "cells": [
    {
      "cell_type": "markdown",
      "metadata": {
        "id": "view-in-github",
        "colab_type": "text"
      },
      "source": [
        "<a href=\"https://colab.research.google.com/github/HARSHIT097/Learnings/blob/main/pYTHON_LOGIC_002.ipynb\" target=\"_parent\"><img src=\"https://colab.research.google.com/assets/colab-badge.svg\" alt=\"Open In Colab\"/></a>"
      ]
    },
    {
      "cell_type": "code",
      "metadata": {
        "id": "hQsQFrTbwXZ9"
      },
      "source": [
        " import pandas as pd"
      ],
      "execution_count": 1,
      "outputs": []
    },
    {
      "cell_type": "markdown",
      "metadata": {
        "id": "YsNvOYsewz5l"
      },
      "source": [
        "\n",
        "\n",
        "*   check documentation\n",
        "*   reading a file from system\n",
        "\n"
      ]
    },
    {
      "cell_type": "code",
      "metadata": {
        "id": "ZA2EhPs7wof1"
      },
      "source": [
        ""
      ],
      "execution_count": 1,
      "outputs": []
    },
    {
      "cell_type": "markdown",
      "metadata": {
        "id": "PwCr_9ogxL5e"
      },
      "source": [
        "# Session 1"
      ]
    },
    {
      "cell_type": "code",
      "metadata": {
        "id": "sJK6lGdMwtaT",
        "colab": {
          "base_uri": "https://localhost:8080/"
        },
        "outputId": "54c848d5-b91a-4385-d737-89892cb8dda3"
      },
      "source": [
        "str=input(\"Enter a string: \")\n",
        "char=0\n",
        "s=0\n",
        "onlyCaps=0\n",
        "v=0\n",
        "n=0\n",
        "count=0\n",
        "countv=0\n",
        "vowels=('a' and 'A' or 'e' and 'E' or 'i' and 'I' or 'o' and 'O' or 'u' and 'U')\n",
        "position=vowels\n",
        "def upperOnly(s):\n",
        "    onlyCaps=\"\"\n",
        "    for char in s:\n",
        "        if char.isupper()==True:\n",
        "            onlyCaps+=char\n",
        "    return onlyCaps\n",
        "for n in str:\n",
        "    if n.isnumeric():\n",
        "        count=count+1\n",
        "if str.__contains__(vowels):\n",
        "    countv+=1\n",
        "print(upperOnly(str))\n",
        "print(str[::2])\n",
        "print(str.replace(vowels,'@'))\n",
        "print(\"The string contains\",count,\"digits.\")\n",
        "print(\"The vowels are at positions:\",countv)"
      ],
      "execution_count": 2,
      "outputs": [
        {
          "output_type": "stream",
          "text": [
            "Enter a string: HEllo\n",
            "HE\n",
            "Hlo\n",
            "HEllo\n",
            "The string contains 0 digits.\n",
            "The vowels are at positions: 0\n"
          ],
          "name": "stdout"
        }
      ]
    },
    {
      "cell_type": "code",
      "metadata": {
        "id": "WUgZgQbinrSa",
        "colab": {
          "base_uri": "https://localhost:8080/"
        },
        "outputId": "815eb934-08f8-433f-d451-762776f301ed"
      },
      "source": [
        "def get_prime(num):\n",
        "  #takes input from the user\n",
        "  #max=int(input(\"Enter the maximum value for find sum of primes:\"))\n",
        "  sum=2\n",
        "  for num in range(2,num+1):\n",
        "    i=2\n",
        "    for i in range(2,num):\n",
        "      if(int(num%i==0)):\n",
        "            i=num\n",
        "            break;\n",
        "        #when the number is prime calculate sum\n",
        "    if i is not num:\n",
        "        sum+=num\n",
        "  #print(\"Sum of all prime numbers 1 to \",num,\":\",sum)\n",
        "  return sum\n",
        "max=int(input(\"Enter the maximum value for find sum of primes:\"))\n",
        "get_prime(max)"
      ],
      "execution_count": 3,
      "outputs": [
        {
          "output_type": "stream",
          "text": [
            "Enter the maximum value for find sum of primes:12\n"
          ],
          "name": "stdout"
        },
        {
          "output_type": "execute_result",
          "data": {
            "text/plain": [
              "28"
            ]
          },
          "metadata": {
            "tags": []
          },
          "execution_count": 3
        }
      ]
    },
    {
      "cell_type": "code",
      "metadata": {
        "id": "-1IxIwxFwlfc",
        "colab": {
          "base_uri": "https://localhost:8080/"
        },
        "outputId": "cf57ff47-6698-405e-ded3-239476faba00"
      },
      "source": [
        "def getSum(n):\n",
        " \n",
        "    sum = 0\n",
        "    while (n != 0):\n",
        " \n",
        "        sum = sum + int(n % 10)\n",
        "        n = int(n/10)\n",
        " \n",
        "    return sum\n",
        " \n",
        " \n",
        "# Driver code\n",
        "n = 687\n",
        "print(getSum(n))"
      ],
      "execution_count": 4,
      "outputs": [
        {
          "output_type": "stream",
          "text": [
            "21\n"
          ],
          "name": "stdout"
        }
      ]
    },
    {
      "cell_type": "code",
      "metadata": {
        "id": "rqmR5lWdyp0t",
        "colab": {
          "base_uri": "https://localhost:8080/"
        },
        "outputId": "d4fdc58b-1ecf-4424-bea6-6e9a615533a9"
      },
      "source": [
        "\n",
        "def digSum( n):\n",
        "    sum = 0\n",
        "     \n",
        "    while(n > 0 or sum > 9):\n",
        "     \n",
        "        if(n == 0):\n",
        "            n = sum\n",
        "            sum = 0\n",
        "         \n",
        "        sum += n % 10\n",
        "        n //= 10\n",
        "     \n",
        "    return sum\n",
        " \n",
        "# Driver method\n",
        "n = 12345\n",
        "print (digSum(n))"
      ],
      "execution_count": 5,
      "outputs": [
        {
          "output_type": "stream",
          "text": [
            "6\n"
          ],
          "name": "stdout"
        }
      ]
    },
    {
      "cell_type": "code",
      "metadata": {
        "id": "yYLQyF364S_d"
      },
      "source": [
        "def find_digi(input_str):\n",
        "  \n",
        "  vowels = \"aeiou\"\n",
        "\n",
        "  new_str = []\n",
        "  print(input_str)\n",
        "  str_list = list(input_str)\n",
        "  print(str_list)\n",
        "  \n",
        "  #index = 0\n",
        "  for index, letter in enumerate(input_str):\n",
        "  \n",
        "    for letter2 in vowels:\n",
        "    \n",
        "      if (letter == letter2):\n",
        "        #find index - Step_1\n",
        "        print(\"Vowel identified at index {} and recognized vowel {}\".format(index, letter))\n",
        "        #find num - Step_2\n",
        "        new_num = index * 100\n",
        "        #print(\"number:\",new_num)\n",
        "        #get sum of all prime number and the sum of digit\n",
        "        sum_prime = get_prime(new_num)\n",
        "        #print(\"Sum_number:\",sum_prime)\n",
        "        \n",
        "        digit = digSum(sum_prime)\n",
        "        #print(\"dd:\",digit)\n",
        "        print(\"{} going to replaced by {}\".format(letter,digit))\n",
        "        k = str(digit)\n",
        "        print(k)\n",
        "        new_str = input_str.replace(letter,k)\n",
        "        print(new_str)\n",
        "\n",
        "  return (digit,letter)\n",
        "input_str=\"hello\"\n",
        "find_digi(input_str)"
      ],
      "execution_count": null,
      "outputs": []
    },
    {
      "cell_type": "code",
      "metadata": {
        "id": "ejp-NYP8PTGx"
      },
      "source": [
        "\n",
        "input_str = \"hello\"\n",
        "new_str = []\n",
        "str_list = list(input_str)\n",
        "vowels = \"aeiou\"\n",
        "k = find_digi(input_str)\n",
        "print(\"value of k:\",k)\n",
        "\"\"\"\n",
        "for index, letter in enumerate(input_str):\n",
        "  \n",
        "  for letter2 in vowels:\n",
        "    \n",
        "    if (letter == letter2):\n",
        "      print(index, letter)\n",
        "      new_str.append(k)\n",
        "      break\n",
        "  else:\n",
        "    new_str.append(letter)\n",
        "    \"\"\"\n",
        "print(''.join(elem) for elem in new_str)"
      ],
      "execution_count": null,
      "outputs": []
    },
    {
      "cell_type": "code",
      "metadata": {
        "id": "gabNI81T69QY"
      },
      "source": [
        "print(new_str)"
      ],
      "execution_count": null,
      "outputs": []
    },
    {
      "cell_type": "code",
      "metadata": {
        "id": "VhSvFuIvMJ06"
      },
      "source": [
        "def replace_vowel(input_str):\n",
        "\n",
        "  #vowels=[\"a\",\"e\",\"i\",\"o\",\"u\"]\n",
        "  new_str = []\n",
        "  print(input_str)\n",
        "  str_list = list(input_str)\n",
        "  print(str_list)\n",
        "  vowels = \"aeiou\"\n",
        "  k=find_digi(input_str)\n",
        "\n",
        "  \n",
        "\"\"\"  for index, letter in enumerate(\"hello\"):\n",
        "    if letter in vowels:\n",
        "      #print(index, letter)\n",
        "\n",
        "      k = find_digi(input_str)\n",
        "      print(\"value of k:\",k)\n",
        "    #for letter in vowels:\n",
        "      #print(letter)\n",
        "    #else:\n",
        "      #print(\"none\")\n",
        "    \"\"\"\n",
        "\n",
        "if __name__ == '__main__':\n",
        "  #input_str = input(\"Enter the sentence:\")\n",
        "  input_str = \"hello\"\n",
        "  replace_vowel(input_str)\n",
        "  #print(\"Afer replacing vowels with the specified character:\", replace_vowel(input_str))\n",
        " \n"
      ],
      "execution_count": null,
      "outputs": []
    },
    {
      "cell_type": "code",
      "metadata": {
        "id": "0Vpz2WmG9MzU"
      },
      "source": [
        "global str\n",
        "str = 'Hello World String'    \n",
        "print(str(10)+' Good day!!')"
      ],
      "execution_count": null,
      "outputs": []
    },
    {
      "cell_type": "markdown",
      "metadata": {
        "id": "VA5OnnZXLs9c"
      },
      "source": [
        "# Final code"
      ]
    },
    {
      "cell_type": "markdown",
      "metadata": {
        "id": "nw6nRYTnM33h"
      },
      "source": [
        "**bold text**# Section --1"
      ]
    },
    {
      "cell_type": "code",
      "metadata": {
        "id": "GyqoL6b5Lo14"
      },
      "source": [
        "global str\n",
        "def get_prime(num):\n",
        "  #takes input from the user\n",
        "  #max=int(input(\"Enter the maximum value for find sum of primes:\"))\n",
        "  sum=2\n",
        "  for num in range(2,num+1):\n",
        "    i=2\n",
        "    for i in range(2,num):\n",
        "      if(int(num%i==0)):\n",
        "            i=num\n",
        "            break;\n",
        "        #when the number is prime calculate sum\n",
        "    if i is not num:\n",
        "        sum+=num\n",
        "  #print(\"Sum of all prime numbers 1 to \",num,\":\",sum)\n",
        "  return sum\n",
        "  \n",
        "\n",
        "def digSum( n):\n",
        "    sum = 0\n",
        "     \n",
        "    while(n > 0 or sum > 9):\n",
        "     \n",
        "        if(n == 0):\n",
        "            n = sum\n",
        "            sum = 0\n",
        "         \n",
        "        sum += n % 10\n",
        "        n //= 10\n",
        "     \n",
        "    return sum\n",
        "def find_digi(input_str):\n",
        "  \n",
        "  vowels = \"aeiou\"\n",
        "\n",
        "  new_str = []\n",
        "  print(\"Entered Input String :\", input_str)\n",
        "  str_list = list(input_str)\n",
        "  #print(str_list)\n",
        "  print(\"Applied results on string one by one\")\n",
        "  print(\"###############################\")\n",
        "  #index = 0\n",
        "  for index, letter in enumerate(input_str):\n",
        "  \n",
        "    for letter2 in vowels:\n",
        "    \n",
        "      if (letter == letter2):\n",
        "        #find index - Step_1\n",
        "        \n",
        "        print(\"Vowel identified at index {} and recognized vowel {}\".format(index, letter))\n",
        "        if index == 0:\n",
        "            sum_prime  = 0\n",
        "            \n",
        "        else:\n",
        "            #find num - Step_2\n",
        "            new_num = index * 100\n",
        "            #print(\"number:\",new_num)\n",
        "            \n",
        "            #get sum of all prime number and the sum of digit\n",
        "            sum_prime = get_prime(new_num)\n",
        "            print(\"sum of prime number between {} and {}\".format(str(1),str(new_num)))\n",
        "            print(\"Sum_Prime_number:\",sum_prime)\n",
        "            \n",
        "        \n",
        "        digit = digSum(sum_prime)\n",
        "        print(\"Sum of digit of Prime Number Obtained:\",digit)\n",
        "        \n",
        "        \n",
        "        print(\"{} going to replaced by {}\".format(letter,digit))\n",
        "        print(\"#########################\")\n",
        "        \n",
        "        new_str = input_str.replace(letter,str(digit))\n",
        "        input_str = new_str\n",
        "        \n",
        "  print(\"Modified String\",new_str)\n",
        "\n",
        "  return (digit,letter)\n",
        "\n",
        "\n",
        "if __name__ == '__main__':\n",
        "  #input_str = input(\"Enter the sentence:\")\n",
        "  input_str = \"hello\"\n",
        "  find_digi(input_str)\n",
        "  #replace_vowel(input_str)\n",
        "  #print(\"Afer replacing vowels with the specified character:\", replace_vowel(input_str))\n",
        "#input_str=\"umberella\"\n",
        "#find_digi(input_str)\n"
      ],
      "execution_count": null,
      "outputs": []
    },
    {
      "cell_type": "code",
      "metadata": {
        "id": "2J6dIT8OL8To"
      },
      "source": [
        ""
      ],
      "execution_count": null,
      "outputs": []
    },
    {
      "cell_type": "markdown",
      "metadata": {
        "id": "cIcZOjU6M9ju"
      },
      "source": [
        "# 2nd question"
      ]
    },
    {
      "cell_type": "code",
      "metadata": {
        "id": "7KG8LQEWNBS9"
      },
      "source": [
        "s=\"aabb\"\n",
        "string=[]\n",
        "for letter in s:\n",
        "  string.append(letter)"
      ],
      "execution_count": null,
      "outputs": []
    },
    {
      "cell_type": "code",
      "metadata": {
        "id": "Rm6sEDMuQXeK"
      },
      "source": [
        "string"
      ],
      "execution_count": null,
      "outputs": []
    },
    {
      "cell_type": "code",
      "metadata": {
        "id": "4Xh9HGYgQe0x"
      },
      "source": [
        "\n",
        "\n",
        "# Function to Count minimum swap\n",
        "def CountSwap(input_str, len_str):\n",
        "    n = len_str\n",
        "\t  s = list(input_str)\n",
        " \n",
        "\t  # Counter to count minimum swap\n",
        "\t  count = 0\n",
        "\t  ans = True\n",
        "\n",
        "\t  # A loop which run in half string\n",
        "\t  # from starting\n",
        "\t  for i in range(n // 2):\n",
        "\n",
        "\t\t  # Left pointer\n",
        "\t\t  left = i\n",
        "\n",
        "\t\t  # Right pointer\n",
        "\t\t  right = n - left - 1\n",
        "\n",
        "\t\t  # A loop which run from right pointer\n",
        "\t\t  # to left pointer\n",
        "\t\t  while left < right:\n",
        "\n",
        "\t\t\t  # if both char same then\n",
        "\t\t\t  # break the loop if not\n",
        "\t\t\t  # same then we have to move\n",
        "\t\t\t  # right pointer to one step left\n",
        "\t\t\t  if s[left] == s[right]:\n",
        "\t\t\t\t  break\n",
        "\t\t\t  else:\n",
        "\t\t\t\t  right -= 1\n",
        "\n",
        "\t\t# it denotes both pointer at\n",
        "\t\t# same position and we don't\n",
        "\t\t# have sufficient char to make\n",
        "\t\t# palindrome string\n",
        "\t\t  if left == right:\n",
        "\t\t\t  ans = False\n",
        "\t\t\t  break\n",
        "\t\t  else:\n",
        "\t\t\t  for j in range(right, n - left - 1):\n",
        "\t\t\t\t  (s[j], s[j + 1]) = (s[j + 1], s[j])\n",
        "\t\t\t\t  count += 1\n",
        "\t  if ans:\n",
        "\t\t  return (count)\n",
        "      print(\"No of {} possibilities in the string {}\".format(str(count), s))\n",
        "\t  else:\n",
        "      print(\"No possiblities\")\n",
        "\t\t  return -1\n",
        "\n",
        "\"\"\"\n",
        "# Driver Code\n",
        "s = 'aabcd'\n",
        "\n",
        "# Legth of string\n",
        "n = len(s)\n",
        "\"\"\"\n",
        "  # Function calling\n",
        "ans1 = CountSwap(s, n)\n",
        "ans2 = CountSwap(s[::-1], n)\n",
        "return(max(ans1, ans2))\n",
        "if __name__ == '__main__':\n",
        "  #input_str = input(\"Enter the sentence:\")\n",
        "  input_str = \"hello\"\n",
        "  len_str = len(input_str)\n",
        "  CountSwap(input_str, len_str)\n"
      ],
      "execution_count": null,
      "outputs": []
    },
    {
      "cell_type": "code",
      "metadata": {
        "id": "lfIIdfmiQ1V-"
      },
      "source": [
        "def CountSwap(input_str, len_str):\n",
        "    #coversion to list for indexing\n",
        "    s = list(input_str)\n",
        "    n = len_str\n",
        "    print(\"length of string\",len_str)\n",
        "    print(s)\n",
        "    # Intializing Counter to count minimum swap\n",
        "    count = 0\n",
        "    ans = True\n",
        " \n",
        "    # A loop which run in half string\n",
        "    # from starting\n",
        "    for i in range(n // 2):\n",
        " \n",
        "        # Left pointer\n",
        "        left = i\n",
        " \n",
        "        # Right pointer\n",
        "        right = n - left - 1\n",
        " \n",
        "        # A loop which run from right pointer\n",
        "        # to left pointer\n",
        "        while left < right:\n",
        " \n",
        "            # if both char same then\n",
        "            # break the loop if not\n",
        "            # same then we have to move\n",
        "            # right pointer to one step left\n",
        "            if s[left] == s[right]:\n",
        "                print(\"String found equal\",count)\n",
        "                break\n",
        "            else:\n",
        "                right -= 1\n",
        " \n",
        "        # it denotes both pointer at\n",
        "        # same position and we don't\n",
        "        # have sufficient char to make\n",
        "        # palindrome string\n",
        "        if left == right:\n",
        "            ans = False\n",
        "            print(\"symmetry found total count\", count)\n",
        "            break\n",
        "        else:\n",
        "            for j in range(right, n - left - 1):\n",
        "                (s[j], s[j + 1]) = (s[j + 1], s[j])\n",
        "                print(count)\n",
        "                print(\"\")\n",
        "                count += 1\n",
        "    if ans:\n",
        "        return (count)\n",
        "    else:\n",
        "        print(\"No possible swaps\")\n",
        "        return -1\n",
        "\n",
        "if __name__ == '__main__':\n",
        "  input_str = input(\"Enter the sentence:\")\n",
        "  input_str = input_str.lower()\n",
        "  print(\"Entered string for evaluation:\", input_str)\n",
        "  #input_str = \"aabbaa\"\n",
        "  len_str = len(input_str)\n",
        "  print(\"####################\")\n",
        "  \n",
        "  CountSwap(input_str, len_str)\n",
        "    # Function calling\n",
        "  ans1 = CountSwap(input_str, len_str)\n",
        "  print(\"forward\",ans1)\n",
        "  print(\"####################\")\n",
        "  ans2 = CountSwap(input_str[::-1], len_str)\n",
        "  print(\"backward\",ans2)\n",
        "  print(\"####################\")\n",
        "  print(\"Possible number of swaps:\",max(ans1, ans2))\n",
        "  print(\"####################\")\n",
        "  print(\" -1 indicates no possible swaps\")\n",
        "  print(\"####################\")"
      ],
      "execution_count": null,
      "outputs": []
    },
    {
      "cell_type": "code",
      "metadata": {
        "id": "zoSw7yxrkhRs"
      },
      "source": [
        "if __name__ == '__main__':\n",
        "  input_str = input(\"Enter the sentence:\")\n",
        "  input_str = input_str.lower()\n",
        "  print(\"Entered string for evaluation:\", input_str)\n",
        "  #input_str = \"aabbaa\"\n",
        "  len_str = len(input_str)\n",
        "  print(\"####################\")\n",
        "  \n",
        "  CountSwap(input_str, len_str)\n",
        "    # Function calling\n",
        "  ans1 = CountSwap(input_str, len_str)\n",
        "  print(\"forward\",ans1)\n",
        "  print(\"####################\")\n",
        "  ans2 = CountSwap(input_str[::-1], len_str)\n",
        "  print(\"backward\",ans2)\n",
        "  print(\"####################\")\n",
        "  print(\"Possible number of swaps:\",max(ans1, ans2))\n",
        "  print(\"####################\")\n",
        "  print(\" -1 indicates no possible swaps\")\n",
        "  print(\"####################\")"
      ],
      "execution_count": null,
      "outputs": []
    },
    {
      "cell_type": "code",
      "metadata": {
        "id": "kknEq2cNc4U0"
      },
      "source": [
        "if __name__ == '__main__':\n",
        "  input_str = input(\"Enter the sentence:\")\n",
        "  input_str = input_str.lower()\n",
        "  print(\"Entered string for evaluation:\", input_str)\n",
        "  #input_str = \"aabbaa\"\n",
        "  len_str = len(input_str)\n",
        "  print(\"####################\")\n",
        "  \n",
        "  CountSwap(input_str, len_str)\n",
        "    # Function calling\n",
        "  ans1 = CountSwap(input_str, len_str)\n",
        "  print(\"forward\",ans1)\n",
        "  print(\"####################\")\n",
        "  ans2 = CountSwap(input_str[::-1], len_str)\n",
        "  print(\"backward\",ans2)\n",
        "  print(\"####################\")\n",
        "  print(\"Possible number of swaps:\",max(ans1, ans2))\n",
        "  print(\"####################\")\n",
        "  print(\" -1 indicates no possible swaps\")\n",
        "  print(\"####################\")"
      ],
      "execution_count": null,
      "outputs": []
    },
    {
      "cell_type": "code",
      "metadata": {
        "id": "fHQHZR4ekong"
      },
      "source": [
        ""
      ],
      "execution_count": null,
      "outputs": []
    },
    {
      "cell_type": "code",
      "metadata": {
        "id": "tNb7464OkyTT"
      },
      "source": [
        ""
      ],
      "execution_count": null,
      "outputs": []
    }
  ]
}