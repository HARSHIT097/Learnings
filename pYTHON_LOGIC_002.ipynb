{
  "nbformat": 4,
  "nbformat_minor": 0,
  "metadata": {
    "colab": {
      "name": "pYTHON_LOGIC_002.ipynb",
      "provenance": [],
      "collapsed_sections": [],
      "toc_visible": true,
      "authorship_tag": "ABX9TyPo9uGqy/Nee/g57dYSGkcP",
      "include_colab_link": true
    },
    "kernelspec": {
      "name": "python3",
      "display_name": "Python 3"
    }
  },
  "cells": [
    {
      "cell_type": "markdown",
      "metadata": {
        "id": "view-in-github",
        "colab_type": "text"
      },
      "source": [
        "<a href=\"https://colab.research.google.com/github/HARSHIT097/Learnings/blob/main/pYTHON_LOGIC_002.ipynb\" target=\"_parent\"><img src=\"https://colab.research.google.com/assets/colab-badge.svg\" alt=\"Open In Colab\"/></a>"
      ]
    },
    {
      "cell_type": "code",
      "metadata": {
        "id": "hQsQFrTbwXZ9"
      },
      "source": [
        " import pandas as pd"
      ],
      "execution_count": null,
      "outputs": []
    },
    {
      "cell_type": "markdown",
      "metadata": {
        "id": "YsNvOYsewz5l"
      },
      "source": [
        "\n",
        "\n",
        "*   check documentation\n",
        "*   reading a file from system\n",
        "\n"
      ]
    },
    {
      "cell_type": "code",
      "metadata": {
        "id": "ZA2EhPs7wof1"
      },
      "source": [
        ""
      ],
      "execution_count": null,
      "outputs": []
    },
    {
      "cell_type": "markdown",
      "metadata": {
        "id": "PwCr_9ogxL5e"
      },
      "source": [
        "# Session 1"
      ]
    },
    {
      "cell_type": "code",
      "metadata": {
        "id": "sJK6lGdMwtaT",
        "colab": {
          "base_uri": "https://localhost:8080/"
        },
        "outputId": "54c848d5-b91a-4385-d737-89892cb8dda3"
      },
      "source": [
        "str=input(\"Enter a string: \")\n",
        "char=0\n",
        "s=0\n",
        "onlyCaps=0\n",
        "v=0\n",
        "n=0\n",
        "count=0\n",
        "countv=0\n",
        "vowels=('a' and 'A' or 'e' and 'E' or 'i' and 'I' or 'o' and 'O' or 'u' and 'U')\n",
        "position=vowels\n",
        "def upperOnly(s):\n",
        "    onlyCaps=\"\"\n",
        "    for char in s:\n",
        "        if char.isupper()==True:\n",
        "            onlyCaps+=char\n",
        "    return onlyCaps\n",
        "for n in str:\n",
        "    if n.isnumeric():\n",
        "        count=count+1\n",
        "if str.__contains__(vowels):\n",
        "    countv+=1\n",
        "print(upperOnly(str))\n",
        "print(str[::2])\n",
        "print(str.replace(vowels,'@'))\n",
        "print(\"The string contains\",count,\"digits.\")\n",
        "print(\"The vowels are at positions:\",countv)"
      ],
      "execution_count": null,
      "outputs": [
        {
          "output_type": "stream",
          "text": [
            "Enter a string: HEllo\n",
            "HE\n",
            "Hlo\n",
            "HEllo\n",
            "The string contains 0 digits.\n",
            "The vowels are at positions: 0\n"
          ],
          "name": "stdout"
        }
      ]
    },
    {
      "cell_type": "code",
      "metadata": {
        "id": "WUgZgQbinrSa",
        "colab": {
          "base_uri": "https://localhost:8080/"
        },
        "outputId": "815eb934-08f8-433f-d451-762776f301ed"
      },
      "source": [
        "def get_prime(num):\n",
        "  #takes input from the user\n",
        "  #max=int(input(\"Enter the maximum value for find sum of primes:\"))\n",
        "  sum=2\n",
        "  for num in range(2,num+1):\n",
        "    i=2\n",
        "    for i in range(2,num):\n",
        "      if(int(num%i==0)):\n",
        "            i=num\n",
        "            break;\n",
        "        #when the number is prime calculate sum\n",
        "    if i is not num:\n",
        "        sum+=num\n",
        "  #print(\"Sum of all prime numbers 1 to \",num,\":\",sum)\n",
        "  return sum\n",
        "max=int(input(\"Enter the maximum value for find sum of primes:\"))\n",
        "get_prime(max)"
      ],
      "execution_count": null,
      "outputs": [
        {
          "output_type": "stream",
          "text": [
            "Enter the maximum value for find sum of primes:12\n"
          ],
          "name": "stdout"
        },
        {
          "output_type": "execute_result",
          "data": {
            "text/plain": [
              "28"
            ]
          },
          "metadata": {
            "tags": []
          },
          "execution_count": 3
        }
      ]
    },
    {
      "cell_type": "code",
      "metadata": {
        "id": "-1IxIwxFwlfc",
        "colab": {
          "base_uri": "https://localhost:8080/"
        },
        "outputId": "cf57ff47-6698-405e-ded3-239476faba00"
      },
      "source": [
        "def getSum(n):\n",
        " \n",
        "    sum = 0\n",
        "    while (n != 0):\n",
        " \n",
        "        sum = sum + int(n % 10)\n",
        "        n = int(n/10)\n",
        " \n",
        "    return sum\n",
        " \n",
        " \n",
        "# Driver code\n",
        "n = 687\n",
        "print(getSum(n))"
      ],
      "execution_count": null,
      "outputs": [
        {
          "output_type": "stream",
          "text": [
            "21\n"
          ],
          "name": "stdout"
        }
      ]
    },
    {
      "cell_type": "code",
      "metadata": {
        "id": "rqmR5lWdyp0t",
        "colab": {
          "base_uri": "https://localhost:8080/"
        },
        "outputId": "d4fdc58b-1ecf-4424-bea6-6e9a615533a9"
      },
      "source": [
        "\n",
        "def digSum( n):\n",
        "    sum = 0\n",
        "     \n",
        "    while(n > 0 or sum > 9):\n",
        "     \n",
        "        if(n == 0):\n",
        "            n = sum\n",
        "            sum = 0\n",
        "         \n",
        "        sum += n % 10\n",
        "        n //= 10\n",
        "     \n",
        "    return sum\n",
        " \n",
        "# Driver method\n",
        "n = 12345\n",
        "print (digSum(n))"
      ],
      "execution_count": null,
      "outputs": [
        {
          "output_type": "stream",
          "text": [
            "6\n"
          ],
          "name": "stdout"
        }
      ]
    },
    {
      "cell_type": "code",
      "metadata": {
        "id": "yYLQyF364S_d"
      },
      "source": [
        "def find_digi(input_str):\n",
        "  \n",
        "  vowels = \"aeiou\"\n",
        "\n",
        "  new_str = []\n",
        "  print(input_str)\n",
        "  str_list = list(input_str)\n",
        "  print(str_list)\n",
        "  \n",
        "  #index = 0\n",
        "  for index, letter in enumerate(input_str):\n",
        "  \n",
        "    for letter2 in vowels:\n",
        "    \n",
        "      if (letter == letter2):\n",
        "        #find index - Step_1\n",
        "        print(\"Vowel identified at index {} and recognized vowel {}\".format(index, letter))\n",
        "        #find num - Step_2\n",
        "        new_num = index * 100\n",
        "        #print(\"number:\",new_num)\n",
        "        #get sum of all prime number and the sum of digit\n",
        "        sum_prime = get_prime(new_num)\n",
        "        #print(\"Sum_number:\",sum_prime)\n",
        "        \n",
        "        digit = digSum(sum_prime)\n",
        "        #print(\"dd:\",digit)\n",
        "        print(\"{} going to replaced by {}\".format(letter,digit))\n",
        "        k = str(digit)\n",
        "        print(k)\n",
        "        new_str = input_str.replace(letter,k)\n",
        "        print(new_str)\n",
        "\n",
        "  return (digit,letter)\n",
        "input_str=\"hello\"\n",
        "find_digi(input_str)"
      ],
      "execution_count": null,
      "outputs": []
    },
    {
      "cell_type": "code",
      "metadata": {
        "id": "ejp-NYP8PTGx"
      },
      "source": [
        "\n",
        "input_str = \"hello\"\n",
        "new_str = []\n",
        "str_list = list(input_str)\n",
        "vowels = \"aeiou\"\n",
        "k = find_digi(input_str)\n",
        "print(\"value of k:\",k)\n",
        "\"\"\"\n",
        "for index, letter in enumerate(input_str):\n",
        "  \n",
        "  for letter2 in vowels:\n",
        "    \n",
        "    if (letter == letter2):\n",
        "      print(index, letter)\n",
        "      new_str.append(k)\n",
        "      break\n",
        "  else:\n",
        "    new_str.append(letter)\n",
        "    \"\"\"\n",
        "print(''.join(elem) for elem in new_str)"
      ],
      "execution_count": null,
      "outputs": []
    },
    {
      "cell_type": "code",
      "metadata": {
        "id": "gabNI81T69QY"
      },
      "source": [
        "print(new_str)"
      ],
      "execution_count": null,
      "outputs": []
    },
    {
      "cell_type": "code",
      "metadata": {
        "id": "VhSvFuIvMJ06"
      },
      "source": [
        "def replace_vowel(input_str):\n",
        "\n",
        "  #vowels=[\"a\",\"e\",\"i\",\"o\",\"u\"]\n",
        "  new_str = []\n",
        "  print(input_str)\n",
        "  str_list = list(input_str)\n",
        "  print(str_list)\n",
        "  vowels = \"aeiou\"\n",
        "  k=find_digi(input_str)\n",
        "\n",
        "  \n",
        "\"\"\"  for index, letter in enumerate(\"hello\"):\n",
        "    if letter in vowels:\n",
        "      #print(index, letter)\n",
        "\n",
        "      k = find_digi(input_str)\n",
        "      print(\"value of k:\",k)\n",
        "    #for letter in vowels:\n",
        "      #print(letter)\n",
        "    #else:\n",
        "      #print(\"none\")\n",
        "    \"\"\"\n",
        "\n",
        "if __name__ == '__main__':\n",
        "  #input_str = input(\"Enter the sentence:\")\n",
        "  input_str = \"hello\"\n",
        "  replace_vowel(input_str)\n",
        "  #print(\"Afer replacing vowels with the specified character:\", replace_vowel(input_str))\n",
        " \n"
      ],
      "execution_count": null,
      "outputs": []
    },
    {
      "cell_type": "code",
      "metadata": {
        "id": "0Vpz2WmG9MzU"
      },
      "source": [
        "global str\n",
        "str = 'Hello World String'    \n",
        "print(str(10)+' Good day!!')"
      ],
      "execution_count": null,
      "outputs": []
    },
    {
      "cell_type": "markdown",
      "metadata": {
        "id": "VA5OnnZXLs9c"
      },
      "source": [
        "# Final code"
      ]
    },
    {
      "cell_type": "markdown",
      "metadata": {
        "id": "nw6nRYTnM33h"
      },
      "source": [
        "**bold text**# Section --1"
      ]
    },
    {
      "cell_type": "code",
      "metadata": {
        "id": "GyqoL6b5Lo14"
      },
      "source": [
        "global str\n",
        "def get_prime(num):\n",
        "  #takes input from the user\n",
        "  #max=int(input(\"Enter the maximum value for find sum of primes:\"))\n",
        "  sum=2\n",
        "  for num in range(2,num+1):\n",
        "    i=2\n",
        "    for i in range(2,num):\n",
        "      if(int(num%i==0)):\n",
        "            i=num\n",
        "            break;\n",
        "        #when the number is prime calculate sum\n",
        "    if i is not num:\n",
        "        sum+=num\n",
        "  #print(\"Sum of all prime numbers 1 to \",num,\":\",sum)\n",
        "  return sum\n",
        "  \n",
        "\n",
        "def digSum( n):\n",
        "    sum = 0\n",
        "     \n",
        "    while(n > 0 or sum > 9):\n",
        "     \n",
        "        if(n == 0):\n",
        "            n = sum\n",
        "            sum = 0\n",
        "         \n",
        "        sum += n % 10\n",
        "        n //= 10\n",
        "     \n",
        "    return sum\n",
        "def find_digi(input_str):\n",
        "  \n",
        "  vowels = \"aeiou\"\n",
        "\n",
        "  new_str = []\n",
        "  print(\"Entered Input String :\", input_str)\n",
        "  str_list = list(input_str)\n",
        "  #print(str_list)\n",
        "  print(\"Applied results on string one by one\")\n",
        "  print(\"###############################\")\n",
        "  #index = 0\n",
        "  for index, letter in enumerate(input_str):\n",
        "  \n",
        "    for letter2 in vowels:\n",
        "    \n",
        "      if (letter == letter2):\n",
        "        #find index - Step_1\n",
        "        \n",
        "        print(\"Vowel identified at index {} and recognized vowel {}\".format(index, letter))\n",
        "        if index == 0:\n",
        "            sum_prime  = 0\n",
        "            \n",
        "        else:\n",
        "            #find num - Step_2\n",
        "            new_num = index * 100\n",
        "            #print(\"number:\",new_num)\n",
        "            \n",
        "            #get sum of all prime number and the sum of digit\n",
        "            sum_prime = get_prime(new_num)\n",
        "            print(\"sum of prime number between {} and {}\".format(str(1),str(new_num)))\n",
        "            print(\"Sum_Prime_number:\",sum_prime)\n",
        "            \n",
        "        \n",
        "        digit = digSum(sum_prime)\n",
        "        print(\"Sum of digit of Prime Number Obtained:\",digit)\n",
        "        \n",
        "        \n",
        "        print(\"{} going to replaced by {}\".format(letter,digit))\n",
        "        print(\"#########################\")\n",
        "        \n",
        "        new_str = input_str.replace(letter,str(digit))\n",
        "        input_str = new_str\n",
        "        \n",
        "  print(\"Modified String\",new_str)\n",
        "\n",
        "  return (digit,letter)\n",
        "\n",
        "\n",
        "if __name__ == '__main__':\n",
        "  #input_str = input(\"Enter the sentence:\")\n",
        "  input_str = \"hello\"\n",
        "  find_digi(input_str)\n",
        "  #replace_vowel(input_str)\n",
        "  #print(\"Afer replacing vowels with the specified character:\", replace_vowel(input_str))\n",
        "#input_str=\"umberella\"\n",
        "#find_digi(input_str)\n"
      ],
      "execution_count": null,
      "outputs": []
    },
    {
      "cell_type": "code",
      "metadata": {
        "id": "2J6dIT8OL8To"
      },
      "source": [
        ""
      ],
      "execution_count": null,
      "outputs": []
    },
    {
      "cell_type": "markdown",
      "metadata": {
        "id": "cIcZOjU6M9ju"
      },
      "source": [
        "# 2nd question"
      ]
    },
    {
      "cell_type": "code",
      "metadata": {
        "id": "7KG8LQEWNBS9"
      },
      "source": [
        "s=\"aabb\"\n",
        "string=[]\n",
        "for letter in s:\n",
        "  string.append(letter)"
      ],
      "execution_count": null,
      "outputs": []
    },
    {
      "cell_type": "code",
      "metadata": {
        "id": "Rm6sEDMuQXeK"
      },
      "source": [
        "string"
      ],
      "execution_count": null,
      "outputs": []
    },
    {
      "cell_type": "code",
      "metadata": {
        "id": "4Xh9HGYgQe0x"
      },
      "source": [
        "\n",
        "\n",
        "# Function to Count minimum swap\n",
        "def CountSwap(input_str, len_str):\n",
        "    n = len_str\n",
        "\t  s = list(input_str)\n",
        " \n",
        "\t  # Counter to count minimum swap\n",
        "\t  count = 0\n",
        "\t  ans = True\n",
        "\n",
        "\t  # A loop which run in half string\n",
        "\t  # from starting\n",
        "\t  for i in range(n // 2):\n",
        "\n",
        "\t\t  # Left pointer\n",
        "\t\t  left = i\n",
        "\n",
        "\t\t  # Right pointer\n",
        "\t\t  right = n - left - 1\n",
        "\n",
        "\t\t  # A loop which run from right pointer\n",
        "\t\t  # to left pointer\n",
        "\t\t  while left < right:\n",
        "\n",
        "\t\t\t  # if both char same then\n",
        "\t\t\t  # break the loop if not\n",
        "\t\t\t  # same then we have to move\n",
        "\t\t\t  # right pointer to one step left\n",
        "\t\t\t  if s[left] == s[right]:\n",
        "\t\t\t\t  break\n",
        "\t\t\t  else:\n",
        "\t\t\t\t  right -= 1\n",
        "\n",
        "\t\t# it denotes both pointer at\n",
        "\t\t# same position and we don't\n",
        "\t\t# have sufficient char to make\n",
        "\t\t# palindrome string\n",
        "\t\t  if left == right:\n",
        "\t\t\t  ans = False\n",
        "\t\t\t  break\n",
        "\t\t  else:\n",
        "\t\t\t  for j in range(right, n - left - 1):\n",
        "\t\t\t\t  (s[j], s[j + 1]) = (s[j + 1], s[j])\n",
        "\t\t\t\t  count += 1\n",
        "\t  if ans:\n",
        "\t\t  return (count)\n",
        "      print(\"No of {} possibilities in the string {}\".format(str(count), s))\n",
        "\t  else:\n",
        "      print(\"No possiblities\")\n",
        "\t\t  return -1\n",
        "\n",
        "\"\"\"\n",
        "# Driver Code\n",
        "s = 'aabcd'\n",
        "\n",
        "# Legth of string\n",
        "n = len(s)\n",
        "\"\"\"\n",
        "  # Function calling\n",
        "ans1 = CountSwap(s, n)\n",
        "ans2 = CountSwap(s[::-1], n)\n",
        "return(max(ans1, ans2))\n",
        "if __name__ == '__main__':\n",
        "  #input_str = input(\"Enter the sentence:\")\n",
        "  input_str = \"hello\"\n",
        "  len_str = len(input_str)\n",
        "  CountSwap(input_str, len_str)\n"
      ],
      "execution_count": null,
      "outputs": []
    },
    {
      "cell_type": "code",
      "metadata": {
        "id": "lfIIdfmiQ1V-"
      },
      "source": [
        "def CountSwap(input_str, len_str):\n",
        "    #coversion to list for indexing\n",
        "    s = list(input_str)\n",
        "    n = len_str\n",
        "    print(\"length of string\",len_str)\n",
        "    print(s)\n",
        "    # Intializing Counter to count minimum swap\n",
        "    count = 0\n",
        "    ans = True\n",
        " \n",
        "    # A loop which run in half string\n",
        "    # from starting\n",
        "    for i in range(n // 2):\n",
        " \n",
        "        # Left pointer\n",
        "        left = i\n",
        " \n",
        "        # Right pointer\n",
        "        right = n - left - 1\n",
        " \n",
        "        # A loop which run from right pointer\n",
        "        # to left pointer\n",
        "        while left < right:\n",
        " \n",
        "            # if both char same then\n",
        "            # break the loop if not\n",
        "            # same then we have to move\n",
        "            # right pointer to one step left\n",
        "            if s[left] == s[right]:\n",
        "                print(\"String found equal\",count)\n",
        "                break\n",
        "            else:\n",
        "                right -= 1\n",
        " \n",
        "        # it denotes both pointer at\n",
        "        # same position and we don't\n",
        "        # have sufficient char to make\n",
        "        # palindrome string\n",
        "        if left == right:\n",
        "            ans = False\n",
        "            print(\"symmetry found total count\", count)\n",
        "            break\n",
        "        else:\n",
        "            for j in range(right, n - left - 1):\n",
        "                (s[j], s[j + 1]) = (s[j + 1], s[j])\n",
        "                print(count)\n",
        "                print(\"\")\n",
        "                count += 1\n",
        "    if ans:\n",
        "        return (count)\n",
        "    else:\n",
        "        print(\"No possible swaps\")\n",
        "        return -1\n",
        "\n",
        "if __name__ == '__main__':\n",
        "  input_str = input(\"Enter the sentence:\")\n",
        "  input_str = input_str.lower()\n",
        "  print(\"Entered string for evaluation:\", input_str)\n",
        "  #input_str = \"aabbaa\"\n",
        "  len_str = len(input_str)\n",
        "  print(\"####################\")\n",
        "  \n",
        "  CountSwap(input_str, len_str)\n",
        "    # Function calling\n",
        "  ans1 = CountSwap(input_str, len_str)\n",
        "  print(\"forward\",ans1)\n",
        "  print(\"####################\")\n",
        "  ans2 = CountSwap(input_str[::-1], len_str)\n",
        "  print(\"backward\",ans2)\n",
        "  print(\"####################\")\n",
        "  print(\"Possible number of swaps:\",max(ans1, ans2))\n",
        "  print(\"####################\")\n",
        "  print(\" -1 indicates no possible swaps\")\n",
        "  print(\"####################\")"
      ],
      "execution_count": null,
      "outputs": []
    },
    {
      "cell_type": "code",
      "metadata": {
        "id": "zoSw7yxrkhRs"
      },
      "source": [
        "if __name__ == '__main__':\n",
        "  input_str = input(\"Enter the sentence:\")\n",
        "  input_str = input_str.lower()\n",
        "  print(\"Entered string for evaluation:\", input_str)\n",
        "  #input_str = \"aabbaa\"\n",
        "  len_str = len(input_str)\n",
        "  print(\"####################\")\n",
        "  \n",
        "  CountSwap(input_str, len_str)\n",
        "    # Function calling\n",
        "  ans1 = CountSwap(input_str, len_str)\n",
        "  print(\"forward\",ans1)\n",
        "  print(\"####################\")\n",
        "  ans2 = CountSwap(input_str[::-1], len_str)\n",
        "  print(\"backward\",ans2)\n",
        "  print(\"####################\")\n",
        "  print(\"Possible number of swaps:\",max(ans1, ans2))\n",
        "  print(\"####################\")\n",
        "  print(\" -1 indicates no possible swaps\")\n",
        "  print(\"####################\")"
      ],
      "execution_count": null,
      "outputs": []
    },
    {
      "cell_type": "code",
      "metadata": {
        "id": "kknEq2cNc4U0"
      },
      "source": [
        "if __name__ == '__main__':\n",
        "  input_str = input(\"Enter the sentence:\")\n",
        "  input_str = input_str.lower()\n",
        "  print(\"Entered string for evaluation:\", input_str)\n",
        "  #input_str = \"aabbaa\"\n",
        "  len_str = len(input_str)\n",
        "  print(\"####################\")\n",
        "  \n",
        "  CountSwap(input_str, len_str)\n",
        "    # Function calling\n",
        "  ans1 = CountSwap(input_str, len_str)\n",
        "  print(\"forward\",ans1)\n",
        "  print(\"####################\")\n",
        "  ans2 = CountSwap(input_str[::-1], len_str)\n",
        "  print(\"backward\",ans2)\n",
        "  print(\"####################\")\n",
        "  print(\"Possible number of swaps:\",max(ans1, ans2))\n",
        "  print(\"####################\")\n",
        "  print(\" -1 indicates no possible swaps\")\n",
        "  print(\"####################\")"
      ],
      "execution_count": null,
      "outputs": []
    },
    {
      "cell_type": "code",
      "metadata": {
        "id": "fHQHZR4ekong"
      },
      "source": [
        ""
      ],
      "execution_count": null,
      "outputs": []
    },
    {
      "cell_type": "markdown",
      "metadata": {
        "id": "HSZH9YoQWdQX"
      },
      "source": [
        "# New Section"
      ]
    },
    {
      "cell_type": "code",
      "metadata": {
        "id": "tNb7464OkyTT"
      },
      "source": [
        "import requests\n",
        "import json\n",
        "\n",
        "# Now we have to request our JSON data through\n",
        "# the API package\n",
        "res = requests.get(\"https://jsonplaceholder.typicode.com / todos\")\n",
        "var = json.loads(res.text)\n",
        "\n",
        "# To view your Json data, type var and hit enter\n",
        "var\n",
        "\n",
        "# Now our Goal is to find the User who have\n",
        "# maximum completed their task !!\n",
        "# i.e we would count the True value of a\n",
        "# User in completed key.\n",
        "# {\n",
        "\t# \"userId\": 1,\n",
        "\t# \"id\": 1,\n",
        "\t# \"title\": \"Hey\",\n",
        "\t# \"completed\": false, # we will count\n",
        "\t\t\t\t\t\t# this for a user.\n",
        "# }\n",
        "\n",
        "# Note that there are multiple users with\n",
        "# unique id, and their task have respective\n",
        "# Boolean Values.\n",
        "\n",
        "def find(todo):\n",
        "\tcheck = todo[\"completed\"]\n",
        "\tmax_var = todo[\"userId\"] in users\n",
        "\treturn check and max_var\n",
        "\n",
        "# To find the values.\n",
        "\n",
        "Value = list(filter(find, todos))\n",
        "\n",
        "# To write these value to your disk\n",
        "\n",
        "with open(\"sample.json\", \"w\") as data:\n",
        "\tValue = list(filter(keep, todos))\n",
        "\tjson.dump(Value, data, indent = 2)\n"
      ],
      "execution_count": null,
      "outputs": []
    },
    {
      "cell_type": "code",
      "metadata": {
        "colab": {
          "base_uri": "https://localhost:8080/"
        },
        "id": "5Dbg-mXTWceC",
        "outputId": "7fdaf1fe-4474-430f-d93b-b0e347aaf15a"
      },
      "source": [
        "def prevSmaller(array):\n",
        "        \"\"\" Time complexity: O(n). Space complexity: O(n), n is len(array).\n",
        "        \"\"\"\n",
        "        stack = []\n",
        "        result = []\n",
        "        for num in array:\n",
        "            # see of there's integer smaller than num in the stack\n",
        "            while stack and stack[-1] >= num:\n",
        "                stack.pop()\n",
        "            if stack:  # found the smaller integer\n",
        "                result.append(stack[-1])\n",
        "            else:  # stack is empty, smaller integer wasn't found\n",
        "                result.append(-1)\n",
        "            stack.append(num)  # push current num to the stack\n",
        "        return result\n",
        "\n",
        "arr= [5, 2, 8, 3, 9, 12]\n",
        "prevSmaller(arr)"
      ],
      "execution_count": null,
      "outputs": [
        {
          "output_type": "execute_result",
          "data": {
            "text/plain": [
              "[-1, -1, 2, 2, 3, 9]"
            ]
          },
          "metadata": {
            "tags": []
          },
          "execution_count": 5
        }
      ]
    },
    {
      "cell_type": "code",
      "metadata": {
        "id": "fzM8yfAOleho"
      },
      "source": [
        "# Function to check if a given row is valid. It will return:\n",
        "# -1 if the row contains an invalid value\n",
        "# 0 if the row contains repeated values\n",
        "# 1 is the row is valid.\n",
        "def valid_row(row, grid):\n",
        "  temp = grid[row]\n",
        "  # Removing 0's.\n",
        "  temp = list(filter(lambda a: a != 0, temp))\n",
        "  # Checking for invalid values.\n",
        "  if any(i < 0 and i > 9 for i in temp):\n",
        "    print(\"Invalid value\")\n",
        "    return -1\n",
        "  # Checking for repeated values.\n",
        "  elif len(temp) != len(set(temp)):\n",
        "    return 0\n",
        "  else:\n",
        "    return 1\n",
        "# Function to check if a given column is valid. It will return:\n",
        "# -1 if the column contains an invalid value\n",
        "# 0 if the columncontains repeated values\n",
        "# 1 is the column is valid.\n",
        "def valid_col(col, grid):\n",
        "  # Extracting the column.\n",
        "  temp = [row[col] for row in grid]\n",
        "  # Removing 0's. \n",
        "  temp = list(filter(lambda a: a != 0, temp))\n",
        "  # Checking for invalid values.\n",
        "  if any(i < 0 and i > 9 for i in temp):\n",
        "    print(\"Invalid value\")\n",
        "    return -1\n",
        "  # Checking for repeated values.\n",
        "  elif len(temp) != len(set(temp)):\n",
        "    return 0\n",
        "  else:\n",
        "    return 1\n",
        "# Function to check if all the subsquares are valid. It will return:\n",
        "# -1 if a subsquare contains an invalid value\n",
        "# 0 if a subsquare contains repeated values\n",
        "# 1 if the subsquares are valid.\n",
        "def valid_subsquares(grid):\n",
        "  for row in range(0, 9, 3):\n",
        "      for col in range(0,9,3):\n",
        "         temp = []\n",
        "         for r in range(row,row+3):\n",
        "            for c in range(col, col+3):\n",
        "              if grid[r][c] != 0:\n",
        "                temp.append(grid[r][c])\n",
        "          # Checking for invalid values.\n",
        "         if any(i < 0 and i > 9 for i in temp):\n",
        "             print(\"Invalid value\")\n",
        "             return -1\n",
        "         # Checking for repeated values.\n",
        "         elif len(temp) != len(set(temp)):\n",
        "             return 0\n",
        "  return 1\n",
        "# Function to check if the board invalid.\n",
        "def valid_board(grid):\n",
        "  # Check each row and column.\n",
        "  for i in range(9):\n",
        "      res1 = valid_row(i, grid)\n",
        "      res2 = valid_col(i, grid)\n",
        "      # If a row or column is invalid then the board is invalid.\n",
        "      if (res1 < 1 or res2 < 1):\n",
        "          print(\"The board is invalid\")\n",
        "          return\n",
        "  # If the rows and columns are valid then check the subsquares.\n",
        "  res3 = valid_subsquares(grid)\n",
        "  if (res3 < 1):\n",
        "      print(\"The board is invalid\")\n",
        "  else:\n",
        "      print(\"The board is valid\")\n",
        "def print_board(grid):\n",
        "  for row in grid:\n",
        "    print(row)\n",
        "board = [[1, 4, 7, 0, 0, 0, 0, 0, 3],\n",
        "        [2, 5, 0, 0, 0, 1, 0, 0, 0],\n",
        "        [3, 0, 9, 0, 0, 0, 0, 0, 0],\n",
        "        [0, 8, 0, 0, 2, 0, 0, 0, 4],\n",
        "        [0, 0, 0, 4, 1, 0, 0, 2, 0],\n",
        "        [9, 0, 0, 0, 0, 0, 6, 0, 0],\n",
        "        [0, 0, 3, 0, 0, 0, 0, 0, 9],\n",
        "        [4, 0, 0, 0, 0, 2, 0, 0, 0],\n",
        "        [0, 0, 1, 0, 0, 8, 0, 0, 7]]\n",
        "print_board(board)\n",
        "valid_board(board)\n",
        "board2 = [[1, 4, 4, 0, 0, 0, 0, 0, 3],\n",
        "         [2, 5, 0, 0, 0, 1, 0, 0, 0],\n",
        "         [3, 0, 9, 0, 0, 0, 0, 0, 0],\n",
        "         [0, 8, 0, 0, 2, 0, 0, 0, 4],\n",
        "         [0, 0, 0, 4, 1, 0, 0, 2, 0],\n",
        "         [9, 0, 0, 0, 0, 0, 6, 0, 0],\n",
        "         [0, 0, 3, 0, 0, 0, 0, 0, 9],\n",
        "         [4, 0, 0, 0, 0, 2, 0, 0, 0],\n",
        "         [0, 0, 1, 0, 0, 8, 0, 0, 7]]\n",
        "print_board(board2)\n",
        "valid_board(board2)"
      ],
      "execution_count": null,
      "outputs": []
    },
    {
      "cell_type": "markdown",
      "metadata": {
        "id": "su8Lc40j8sGC"
      },
      "source": [
        "#to do"
      ]
    },
    {
      "cell_type": "markdown",
      "metadata": {
        "id": "wSrlFYRl_N03"
      },
      "source": [
        "Have the function BlackjackHighest(strArr) take the strArr parameter being passed which will be an array of numbers and letters representing blackjack cards. Numbers in the array will be written out. So for example strArr may be [\"two\",\"three\",\"ace\",\"king\"]. The full list of possibilities for strArr is: two, three, four, five, six, seven, eight, nine, ten, jack, queen, king, ace. Your program should output below, above, or blackjack signifying if you have blackjack (numbers add up to 21) or not and the highest card in your hand in relation to whether or not you have blackjack. If the array contains an ace but your hand will go above 21, you must count the ace as a 1. You must always try and stay below the 21 mark. So using the array mentioned above, the output should be below king. The ace is counted as a 1 in this example because if it wasn't you would be above the 21 mark.\n",
        "\n",
        "Another example would be if strArr was [\"four\",\"ten\",\"king\"], the output here should be above king. If you have a tie between a ten and a face card in your hand, return the face card as the \"highest card\". If you have multiple face cards, the order of importance is jack, queen, king.\n",
        "Examples\n",
        "Input: [\"four\",\"ace\",\"ten\"]\n",
        "Output: below ten\n",
        "Input: [\"ace\",\"queen\"]\n",
        "Output: blackjack ace"
      ]
    },
    {
      "cell_type": "markdown",
      "metadata": {
        "id": "91q_6pJH_PAV"
      },
      "source": [
        "Have the function RREFMatrix(strArr) take strArr which will be an array of integers represented as strings. Within the array there will also be \"<>\" elements which represent break points. The array will make up a matrix where the (number of break points + 1) represents the number of rows. Here is an example of how strArr may look: [\"5\",\"7\",\"8\",\"<>\",\"1\",\"1\",\"2\"]. There is one \"<>\", so 1 + 1 = 2. Therefore there will be two rows in the array and the contents will be row1=[5 7 8] and row2=[1 1 2]. Your program should take the given array of elements, create the proper matrix, and then through the process of Gaussian elimination create a reduced row echelon form matrix (RREF matrix). For the array above, the resulting RREF matrix would be: row1=[1 0 3], row2=[0 1 -1]. Your program should return that resulting RREF matrix in string form combining all the integers, like so: \"10301-1\". The matrix can have any number of rows and columns (max=6x6 matrix and min=1x1 matrix). The matrix will not necessarily be a square matrix. If the matrix is an nx1 matrix it will not contain the \"<>\" element. The integers in the array will be such that the resulting RREF matrix will not contain any fractional numbers.\n",
        "Examples\n",
        "Input: [\"2\",\"4\",\"8\",\"<>\",\"6\",\"12\",\"14\"]\n",
        "Output: 120001\n",
        "Input: [\"2\",\"2\",\"4\",\"<>\",\"1\",\"1\",\"8\",\"<>\",\"7\",\"6\",\"5\"]\n",
        "Output: 100010001"
      ]
    },
    {
      "cell_type": "markdown",
      "metadata": {
        "id": "uRVLRwSW_Wqa"
      },
      "source": [
        "Have the function SudokuQuadrantChecker(strArr) read the strArr parameter being passed which will represent a 9x9 Sudoku board of integers ranging from 1 to 9. The rules of Sudoku are to place each of the 9 integers integer in every row and column and not have any integers repeat in the respective row, column, or 3x3 sub-grid. The input strArr will represent a Sudoku board and it will be structured in the following format: [\"(N,N,N,N,N,x,x,x,x)\",\"(...)\",\"(...)\",...)] where N stands for an integer between 1 and 9 and x will stand for an empty cell. Your program will determine if the board is legal; the board also does not necessarily have to be finished. If the board is legal, your program should return the string legal but if it isn't legal, it should return the 3x3 quadrants (separated by commas) where the errors exist. The 3x3 quadrants are numbered from 1 to 9 starting from top-left going to bottom-right.\n",
        "\n",
        "For example, if strArr is: [\"(1,2,3,4,5,6,7,8,1)\",\"(x,x,x,x,x,x,x,x,x)\",\"(x,x,x,x,x,x,x,x,x)\",\"(1,x,x,x,x,x,x,x,x)\",\"(x,x,x,x,x,x,x,x,x)\",\"(x,x,x,x,x,x,x,x,x)\",\"(x,x,x,x,x,x,x,x,x)\",\"(x,x,x,x,x,x,x,x,x)\",\"(x,x,x,x,x,x,x,x,x)\"] then your program should return 1,3,4 since the errors are in quadrants 1, 3 and 4 because of the repeating integer 1.\n",
        "\n",
        "Another example, if strArr is: [\"(1,2,3,4,5,6,7,8,9)\",\"(x,x,x,x,x,x,x,x,x)\",\"(6,x,5,x,3,x,x,4,x)\",\"(2,x,1,1,x,x,x,x,x)\",\"(x,x,x,x,x,x,x,x,x)\",\"(x,x,x,x,x,x,x,x,x)\",\"(x,x,x,x,x,x,x,x,x)\",\"(x,x,x,x,x,x,x,x,x)\",\"(x,x,x,x,x,x,x,x,9)\"] then your program should return 3,4,5,9.\n",
        "Examples\n",
        "Input: [\"(1,2,3,4,5,6,7,8,1)\",\"(x,x,x,x,x,x,x,x,x)\",\"(x,x,x,x,x,x,x,x,x)\",\"(1,x,x,x,x,x,x,x,x)\",\"(x,x,x,x,x,x,x,x,x)\",\"(x,x,x,x,x,x,x,x,x)\",\"(x,x,x,x,x,x,x,x,x)\",\"(x,x,x,x,x,x,x,x,x)\",\"(x,x,x,x,x,x,x,x,x)\"]\n",
        "Output: 1,3,4"
      ]
    },
    {
      "cell_type": "code",
      "metadata": {
        "colab": {
          "base_uri": "https://localhost:8080/"
        },
        "id": "QEkQhy72Jqlr",
        "outputId": "1810aee6-4636-4fdb-8ade-09226e074c28"
      },
      "source": [
        "input1 = [\"(1,2,3,4,5,6,7,8,9)\",\n",
        "         \"(x,x,x,x,x,x,x,x,x)\",\n",
        "         \"(6,x,5,x,3,x,x,4,x)\",\n",
        "         \"(2,x,1,1,x,x,x,x,x)\",\n",
        "         \"(x,x,x,x,x,x,x,x,x)\",\n",
        "         \"(x,x,x,x,x,x,x,x,x)\",\n",
        "         \"(x,x,x,x,x,x,x,x,x)\",\n",
        "         \"(x,x,x,x,x,x,x,x,x)\",\n",
        "         \"(x,x,x,x,x,x,x,x,9)\"]\n",
        "\n",
        "print(input1)"
      ],
      "execution_count": null,
      "outputs": [
        {
          "output_type": "stream",
          "text": [
            "['(1,2,3,4,5,6,7,8,9)', '(x,x,x,x,x,x,x,x,x)', '(6,x,5,x,3,x,x,4,x)', '(2,x,1,1,x,x,x,x,x)', '(x,x,x,x,x,x,x,x,x)', '(x,x,x,x,x,x,x,x,x)', '(x,x,x,x,x,x,x,x,x)', '(x,x,x,x,x,x,x,x,x)', '(x,x,x,x,x,x,x,x,9)']\n"
          ],
          "name": "stdout"
        }
      ]
    },
    {
      "cell_type": "code",
      "metadata": {
        "id": "8dGDZPF7KjMb"
      },
      "source": [
        ""
      ],
      "execution_count": null,
      "outputs": []
    },
    {
      "cell_type": "code",
      "metadata": {
        "colab": {
          "base_uri": "https://localhost:8080/",
          "height": 35
        },
        "id": "gNRZJjcxKJAF",
        "outputId": "da56e013-da6a-47ea-8e30-6aa98baaeae1"
      },
      "source": [
        "input1[0][:5]"
      ],
      "execution_count": null,
      "outputs": [
        {
          "output_type": "execute_result",
          "data": {
            "application/vnd.google.colaboratory.intrinsic+json": {
              "type": "string"
            },
            "text/plain": [
              "'(1,2,'"
            ]
          },
          "metadata": {
            "tags": []
          },
          "execution_count": 7
        }
      ]
    },
    {
      "cell_type": "code",
      "metadata": {
        "colab": {
          "base_uri": "https://localhost:8080/"
        },
        "id": "LGY85EPTKJE5",
        "outputId": "4f994172-60b1-4c68-d26b-d3c3e47deb3f"
      },
      "source": [
        "type(input1[0])"
      ],
      "execution_count": null,
      "outputs": [
        {
          "output_type": "execute_result",
          "data": {
            "text/plain": [
              "str"
            ]
          },
          "metadata": {
            "tags": []
          },
          "execution_count": 5
        }
      ]
    },
    {
      "cell_type": "code",
      "metadata": {
        "id": "VvMGu2WaKBBg"
      },
      "source": [
        ""
      ],
      "execution_count": null,
      "outputs": []
    }
  ]
}