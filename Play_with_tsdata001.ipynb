{
  "nbformat": 4,
  "nbformat_minor": 0,
  "metadata": {
    "colab": {
      "name": "Play_with_tsdata001.ipynb",
      "provenance": [],
      "toc_visible": true,
      "authorship_tag": "ABX9TyPyxVHQ3RfI01E4HeiScUsC",
      "include_colab_link": true
    },
    "kernelspec": {
      "name": "python3",
      "display_name": "Python 3"
    },
    "language_info": {
      "name": "python"
    }
  },
  "cells": [
    {
      "cell_type": "markdown",
      "metadata": {
        "id": "view-in-github",
        "colab_type": "text"
      },
      "source": [
        "<a href=\"https://colab.research.google.com/github/HARSHIT097/Learnings/blob/main/Play_with_tsdata001.ipynb\" target=\"_parent\"><img src=\"https://colab.research.google.com/assets/colab-badge.svg\" alt=\"Open In Colab\"/></a>"
      ]
    },
    {
      "cell_type": "code",
      "metadata": {
        "id": "Jn7HHSdc0Kcn"
      },
      "source": [
        "import pandas as pd\n",
        "import datetime\n",
        "import random\n",
        "import numpy as np"
      ],
      "execution_count": null,
      "outputs": []
    },
    {
      "cell_type": "markdown",
      "metadata": {
        "id": "FP5p6wgsbKco"
      },
      "source": [
        "# Bike ride sharing data"
      ]
    },
    {
      "cell_type": "markdown",
      "metadata": {
        "id": "f68SulDJ0WJD"
      },
      "source": [
        "Create Bike Rides Data"
      ]
    },
    {
      "cell_type": "code",
      "metadata": {
        "id": "rNnPPZYO0VMX"
      },
      "source": [
        "random.seed(38)\n",
        "ride_start_time = datetime.datetime.today()\n",
        "ride_end_time = ride_start_time + datetime.timedelta(minutes=20)\n",
        "ride_start_times = []\n",
        "ride_end_times = []\n",
        "count_of_rides = 6\n",
        "\n",
        "for ride in range(count_of_rides):\n",
        "    minutes_between_rides = random.randint(8, 100)\n",
        "    ride_start_time = ride_end_time + datetime.timedelta(minutes=minutes_between_rides)\n",
        "    \n",
        "    minutes_riding = random.randint(5, 25)\n",
        "    ride_end_time = ride_start_time + datetime.timedelta(minutes=minutes_riding)\n",
        "    \n",
        "    ride_start_times.append(ride_start_time)\n",
        "    ride_end_times.append(ride_end_time)"
      ],
      "execution_count": null,
      "outputs": []
    },
    {
      "cell_type": "code",
      "metadata": {
        "id": "20BFab9N0l3J"
      },
      "source": [
        "data = {'ride_start_time': ride_start_times,\n",
        "        'ride_end_time':  ride_end_times\n",
        "       }\n",
        "df_bike_rides = pd.DataFrame(data)"
      ],
      "execution_count": null,
      "outputs": []
    },
    {
      "cell_type": "code",
      "metadata": {
        "colab": {
          "base_uri": "https://localhost:8080/",
          "height": 111
        },
        "id": "X23F2qBm0osQ",
        "outputId": "785ff4e0-c426-4dd0-c6cf-fea96802ef20"
      },
      "source": [
        "df_bike_rides.head(2)"
      ],
      "execution_count": null,
      "outputs": [
        {
          "output_type": "execute_result",
          "data": {
            "text/html": [
              "<div>\n",
              "<style scoped>\n",
              "    .dataframe tbody tr th:only-of-type {\n",
              "        vertical-align: middle;\n",
              "    }\n",
              "\n",
              "    .dataframe tbody tr th {\n",
              "        vertical-align: top;\n",
              "    }\n",
              "\n",
              "    .dataframe thead th {\n",
              "        text-align: right;\n",
              "    }\n",
              "</style>\n",
              "<table border=\"1\" class=\"dataframe\">\n",
              "  <thead>\n",
              "    <tr style=\"text-align: right;\">\n",
              "      <th></th>\n",
              "      <th>ride_start_time</th>\n",
              "      <th>ride_end_time</th>\n",
              "    </tr>\n",
              "  </thead>\n",
              "  <tbody>\n",
              "    <tr>\n",
              "      <th>0</th>\n",
              "      <td>2021-05-14 23:28:59.025882</td>\n",
              "      <td>2021-05-14 23:46:59.025882</td>\n",
              "    </tr>\n",
              "    <tr>\n",
              "      <th>1</th>\n",
              "      <td>2021-05-15 00:48:59.025882</td>\n",
              "      <td>2021-05-15 00:56:59.025882</td>\n",
              "    </tr>\n",
              "  </tbody>\n",
              "</table>\n",
              "</div>"
            ],
            "text/plain": [
              "             ride_start_time              ride_end_time\n",
              "0 2021-05-14 23:28:59.025882 2021-05-14 23:46:59.025882\n",
              "1 2021-05-15 00:48:59.025882 2021-05-15 00:56:59.025882"
            ]
          },
          "metadata": {
            "tags": []
          },
          "execution_count": 4
        }
      ]
    },
    {
      "cell_type": "markdown",
      "metadata": {
        "id": "QxoeyJJN1LiX"
      },
      "source": [
        ""
      ]
    },
    {
      "cell_type": "code",
      "metadata": {
        "id": "IKQLOmJS0sr-"
      },
      "source": [
        "#Find the Mean Duration of Time, in Minutes, Bike is Left Idle Between Rides"
      ],
      "execution_count": null,
      "outputs": []
    },
    {
      "cell_type": "code",
      "metadata": {
        "id": "QAQ4vVoS1J5g"
      },
      "source": [
        "df_bike_rides['previous_ride_end_time'] = df_bike_rides['ride_end_time'].shift(periods=1)"
      ],
      "execution_count": null,
      "outputs": []
    },
    {
      "cell_type": "code",
      "metadata": {
        "id": "QYrlQ4T71YOq"
      },
      "source": [
        "df_bike_rides['duration_bike_idle_between_rides'] = df_bike_rides['ride_start_time'] - df_bike_rides['previous_ride_end_time']"
      ],
      "execution_count": null,
      "outputs": []
    },
    {
      "cell_type": "code",
      "metadata": {
        "id": "sVQXqKwuY1nY"
      },
      "source": [
        "df_bike_rides['minutes_bike_idle_between_rides'] = df_bike_rides['duration_bike_idle_between_rides'].dt.total_seconds()/60"
      ],
      "execution_count": null,
      "outputs": []
    },
    {
      "cell_type": "code",
      "metadata": {
        "colab": {
          "base_uri": "https://localhost:8080/",
          "height": 111
        },
        "id": "ivio5dXd1VvN",
        "outputId": "19cfbbbd-8bfc-4333-fedb-6c4dd3a9665d"
      },
      "source": [
        "df_bike_rides.tail(2)"
      ],
      "execution_count": null,
      "outputs": [
        {
          "output_type": "execute_result",
          "data": {
            "text/html": [
              "<div>\n",
              "<style scoped>\n",
              "    .dataframe tbody tr th:only-of-type {\n",
              "        vertical-align: middle;\n",
              "    }\n",
              "\n",
              "    .dataframe tbody tr th {\n",
              "        vertical-align: top;\n",
              "    }\n",
              "\n",
              "    .dataframe thead th {\n",
              "        text-align: right;\n",
              "    }\n",
              "</style>\n",
              "<table border=\"1\" class=\"dataframe\">\n",
              "  <thead>\n",
              "    <tr style=\"text-align: right;\">\n",
              "      <th></th>\n",
              "      <th>ride_start_time</th>\n",
              "      <th>ride_end_time</th>\n",
              "      <th>previous_ride_end_time</th>\n",
              "      <th>duration_bike_idle_between_rides</th>\n",
              "      <th>minutes_bike_idle_between_rides</th>\n",
              "    </tr>\n",
              "  </thead>\n",
              "  <tbody>\n",
              "    <tr>\n",
              "      <th>4</th>\n",
              "      <td>2021-05-15 04:19:59.025882</td>\n",
              "      <td>2021-05-15 04:25:59.025882</td>\n",
              "      <td>2021-05-15 03:24:59.025882</td>\n",
              "      <td>0 days 00:55:00</td>\n",
              "      <td>55.0</td>\n",
              "    </tr>\n",
              "    <tr>\n",
              "      <th>5</th>\n",
              "      <td>2021-05-15 05:50:59.025882</td>\n",
              "      <td>2021-05-15 06:00:59.025882</td>\n",
              "      <td>2021-05-15 04:25:59.025882</td>\n",
              "      <td>0 days 01:25:00</td>\n",
              "      <td>85.0</td>\n",
              "    </tr>\n",
              "  </tbody>\n",
              "</table>\n",
              "</div>"
            ],
            "text/plain": [
              "             ride_start_time  ... minutes_bike_idle_between_rides\n",
              "4 2021-05-15 04:19:59.025882  ...                            55.0\n",
              "5 2021-05-15 05:50:59.025882  ...                            85.0\n",
              "\n",
              "[2 rows x 5 columns]"
            ]
          },
          "metadata": {
            "tags": []
          },
          "execution_count": 17
        }
      ]
    },
    {
      "cell_type": "code",
      "metadata": {
        "colab": {
          "base_uri": "https://localhost:8080/"
        },
        "id": "jEet9xGuYtHS",
        "outputId": "4ddfae5e-7f06-4452-d656-ae7f33348907"
      },
      "source": [
        "#calculate the mean minutes_bike_idle_between_rides \n",
        "avg_minutes_bikes_idle_between_rides = df_bike_rides['minutes_bike_idle_between_rides'].mean()\n",
        "avg_minutes_bikes_idle_between_rides"
      ],
      "execution_count": null,
      "outputs": [
        {
          "output_type": "execute_result",
          "data": {
            "text/plain": [
              "63.0"
            ]
          },
          "metadata": {
            "tags": []
          },
          "execution_count": 18
        }
      ]
    },
    {
      "cell_type": "markdown",
      "metadata": {
        "id": "SL7pwjgcZJLK"
      },
      "source": [
        "Duration Idle Time Between Bike Rides Per Unique Bike¶"
      ]
    },
    {
      "cell_type": "code",
      "metadata": {
        "id": "fXw0orWfZEyh"
      },
      "source": [
        "#create a pandas dataframe with details on bike ride times, the bike id and the start and end station.\n",
        "data = {'ride_start_time': ride_start_times,\n",
        "        'ride_end_time':  ride_end_times,\n",
        "        'bike_id': [1, 22, 1, 1, 22, 22],\n",
        "        'start_station': [\"21st & Folsom\", \"21st & Folsom\", \"4th & King\", \"24th & Valencia\", \"4th & King\",  \"16th and Mission\"],\n",
        "        'end_station':  [\"4th & King\", \"4th & King\", \"24th & Valencia\", \"Embarcadero & Market\",  \"16th and Mission\", \"4th & King\"]\n",
        "       }\n",
        "df_bike_sharing = pd.DataFrame(data)"
      ],
      "execution_count": null,
      "outputs": []
    },
    {
      "cell_type": "code",
      "metadata": {
        "id": "mCDPFEziZZbv"
      },
      "source": [
        "#sort df_bike_sharing first by the bike_id column and then the ride_start_time column.\n",
        "df_bike_sharing.sort_values(by=['bike_id', 'ride_start_time'], inplace=True)"
      ],
      "execution_count": null,
      "outputs": []
    },
    {
      "cell_type": "code",
      "metadata": {
        "colab": {
          "base_uri": "https://localhost:8080/",
          "height": 204
        },
        "id": "ZIiMIDGvZDeC",
        "outputId": "8a0d5f1b-285c-469f-f09a-69c551aac516"
      },
      "source": [
        "df_bike_sharing.head()"
      ],
      "execution_count": null,
      "outputs": [
        {
          "output_type": "execute_result",
          "data": {
            "text/html": [
              "<div>\n",
              "<style scoped>\n",
              "    .dataframe tbody tr th:only-of-type {\n",
              "        vertical-align: middle;\n",
              "    }\n",
              "\n",
              "    .dataframe tbody tr th {\n",
              "        vertical-align: top;\n",
              "    }\n",
              "\n",
              "    .dataframe thead th {\n",
              "        text-align: right;\n",
              "    }\n",
              "</style>\n",
              "<table border=\"1\" class=\"dataframe\">\n",
              "  <thead>\n",
              "    <tr style=\"text-align: right;\">\n",
              "      <th></th>\n",
              "      <th>ride_start_time</th>\n",
              "      <th>ride_end_time</th>\n",
              "      <th>bike_id</th>\n",
              "      <th>start_station</th>\n",
              "      <th>end_station</th>\n",
              "    </tr>\n",
              "  </thead>\n",
              "  <tbody>\n",
              "    <tr>\n",
              "      <th>0</th>\n",
              "      <td>2021-05-14 23:28:59.025882</td>\n",
              "      <td>2021-05-14 23:46:59.025882</td>\n",
              "      <td>1</td>\n",
              "      <td>21st &amp; Folsom</td>\n",
              "      <td>4th &amp; King</td>\n",
              "    </tr>\n",
              "    <tr>\n",
              "      <th>2</th>\n",
              "      <td>2021-05-15 01:12:59.025882</td>\n",
              "      <td>2021-05-15 01:28:59.025882</td>\n",
              "      <td>1</td>\n",
              "      <td>4th &amp; King</td>\n",
              "      <td>24th &amp; Valencia</td>\n",
              "    </tr>\n",
              "    <tr>\n",
              "      <th>3</th>\n",
              "      <td>2021-05-15 03:05:59.025882</td>\n",
              "      <td>2021-05-15 03:24:59.025882</td>\n",
              "      <td>1</td>\n",
              "      <td>24th &amp; Valencia</td>\n",
              "      <td>Embarcadero &amp; Market</td>\n",
              "    </tr>\n",
              "    <tr>\n",
              "      <th>1</th>\n",
              "      <td>2021-05-15 00:48:59.025882</td>\n",
              "      <td>2021-05-15 00:56:59.025882</td>\n",
              "      <td>22</td>\n",
              "      <td>21st &amp; Folsom</td>\n",
              "      <td>4th &amp; King</td>\n",
              "    </tr>\n",
              "    <tr>\n",
              "      <th>4</th>\n",
              "      <td>2021-05-15 04:19:59.025882</td>\n",
              "      <td>2021-05-15 04:25:59.025882</td>\n",
              "      <td>22</td>\n",
              "      <td>4th &amp; King</td>\n",
              "      <td>16th and Mission</td>\n",
              "    </tr>\n",
              "  </tbody>\n",
              "</table>\n",
              "</div>"
            ],
            "text/plain": [
              "             ride_start_time  ...           end_station\n",
              "0 2021-05-14 23:28:59.025882  ...            4th & King\n",
              "2 2021-05-15 01:12:59.025882  ...       24th & Valencia\n",
              "3 2021-05-15 03:05:59.025882  ...  Embarcadero & Market\n",
              "1 2021-05-15 00:48:59.025882  ...            4th & King\n",
              "4 2021-05-15 04:19:59.025882  ...      16th and Mission\n",
              "\n",
              "[5 rows x 5 columns]"
            ]
          },
          "metadata": {
            "tags": []
          },
          "execution_count": 22
        }
      ]
    },
    {
      "cell_type": "markdown",
      "metadata": {
        "id": "6Emh8ehpZucF"
      },
      "source": [
        "For the bike_id column, I shift down values by 1 to create a new column called previous_bike_id. I do this so I can easily compare a bike id to the previous ride's ID to identify the last ride by a bike id for a day.\n",
        "\n",
        "Similar to LAG()"
      ]
    },
    {
      "cell_type": "code",
      "metadata": {
        "id": "_EYn17mBZkXl"
      },
      "source": [
        "df_bike_sharing['previous_bike_id'] = df_bike_sharing['bike_id'].shift(periods=1)"
      ],
      "execution_count": null,
      "outputs": []
    },
    {
      "cell_type": "markdown",
      "metadata": {
        "id": "MOzIj8fKZ38c"
      },
      "source": [
        "SELECT *, LAG(bike_id) OVER (ORDER BY bike_id ASC, ride_start_time ASC) AS previous_bike_id\n",
        "FROM df_bike_sharing \n",
        "ORDER BY bike_id ASC, ride_start_time ASC"
      ]
    },
    {
      "cell_type": "code",
      "metadata": {
        "id": "j2bIDR69Zy-U"
      },
      "source": [
        "df_bike_sharing['previous_ride_end_time'] = df_bike_sharing['ride_end_time'].shift(periods=1)"
      ],
      "execution_count": null,
      "outputs": []
    },
    {
      "cell_type": "code",
      "metadata": {
        "colab": {
          "base_uri": "https://localhost:8080/",
          "height": 235
        },
        "id": "OJzW0GVHaAtb",
        "outputId": "f5abf11d-76c5-4761-a2e5-8569819c8b39"
      },
      "source": [
        "# to calculate a duration the bike was idle in a row if it's a comparison for the same bike id. Below I show the code to replace all values \n",
        "#in a row with NaN or NaT if the condition is false.\n",
        "df_bike_sharing.where(df_bike_sharing['bike_id'] == df_bike_sharing['previous_bike_id'])"
      ],
      "execution_count": null,
      "outputs": [
        {
          "output_type": "execute_result",
          "data": {
            "text/html": [
              "<div>\n",
              "<style scoped>\n",
              "    .dataframe tbody tr th:only-of-type {\n",
              "        vertical-align: middle;\n",
              "    }\n",
              "\n",
              "    .dataframe tbody tr th {\n",
              "        vertical-align: top;\n",
              "    }\n",
              "\n",
              "    .dataframe thead th {\n",
              "        text-align: right;\n",
              "    }\n",
              "</style>\n",
              "<table border=\"1\" class=\"dataframe\">\n",
              "  <thead>\n",
              "    <tr style=\"text-align: right;\">\n",
              "      <th></th>\n",
              "      <th>ride_start_time</th>\n",
              "      <th>ride_end_time</th>\n",
              "      <th>bike_id</th>\n",
              "      <th>start_station</th>\n",
              "      <th>end_station</th>\n",
              "      <th>previous_bike_id</th>\n",
              "      <th>previous_ride_end_time</th>\n",
              "    </tr>\n",
              "  </thead>\n",
              "  <tbody>\n",
              "    <tr>\n",
              "      <th>0</th>\n",
              "      <td>NaT</td>\n",
              "      <td>NaT</td>\n",
              "      <td>NaN</td>\n",
              "      <td>NaN</td>\n",
              "      <td>NaN</td>\n",
              "      <td>NaN</td>\n",
              "      <td>NaT</td>\n",
              "    </tr>\n",
              "    <tr>\n",
              "      <th>2</th>\n",
              "      <td>2021-05-15 01:12:59.025882</td>\n",
              "      <td>2021-05-15 01:28:59.025882</td>\n",
              "      <td>1.0</td>\n",
              "      <td>4th &amp; King</td>\n",
              "      <td>24th &amp; Valencia</td>\n",
              "      <td>1.0</td>\n",
              "      <td>2021-05-14 23:46:59.025882</td>\n",
              "    </tr>\n",
              "    <tr>\n",
              "      <th>3</th>\n",
              "      <td>2021-05-15 03:05:59.025882</td>\n",
              "      <td>2021-05-15 03:24:59.025882</td>\n",
              "      <td>1.0</td>\n",
              "      <td>24th &amp; Valencia</td>\n",
              "      <td>Embarcadero &amp; Market</td>\n",
              "      <td>1.0</td>\n",
              "      <td>2021-05-15 01:28:59.025882</td>\n",
              "    </tr>\n",
              "    <tr>\n",
              "      <th>1</th>\n",
              "      <td>NaT</td>\n",
              "      <td>NaT</td>\n",
              "      <td>NaN</td>\n",
              "      <td>NaN</td>\n",
              "      <td>NaN</td>\n",
              "      <td>NaN</td>\n",
              "      <td>NaT</td>\n",
              "    </tr>\n",
              "    <tr>\n",
              "      <th>4</th>\n",
              "      <td>2021-05-15 04:19:59.025882</td>\n",
              "      <td>2021-05-15 04:25:59.025882</td>\n",
              "      <td>22.0</td>\n",
              "      <td>4th &amp; King</td>\n",
              "      <td>16th and Mission</td>\n",
              "      <td>22.0</td>\n",
              "      <td>2021-05-15 00:56:59.025882</td>\n",
              "    </tr>\n",
              "    <tr>\n",
              "      <th>5</th>\n",
              "      <td>2021-05-15 05:50:59.025882</td>\n",
              "      <td>2021-05-15 06:00:59.025882</td>\n",
              "      <td>22.0</td>\n",
              "      <td>16th and Mission</td>\n",
              "      <td>4th &amp; King</td>\n",
              "      <td>22.0</td>\n",
              "      <td>2021-05-15 04:25:59.025882</td>\n",
              "    </tr>\n",
              "  </tbody>\n",
              "</table>\n",
              "</div>"
            ],
            "text/plain": [
              "             ride_start_time  ...     previous_ride_end_time\n",
              "0                        NaT  ...                        NaT\n",
              "2 2021-05-15 01:12:59.025882  ... 2021-05-14 23:46:59.025882\n",
              "3 2021-05-15 03:05:59.025882  ... 2021-05-15 01:28:59.025882\n",
              "1                        NaT  ...                        NaT\n",
              "4 2021-05-15 04:19:59.025882  ... 2021-05-15 00:56:59.025882\n",
              "5 2021-05-15 05:50:59.025882  ... 2021-05-15 04:25:59.025882\n",
              "\n",
              "[6 rows x 7 columns]"
            ]
          },
          "metadata": {
            "tags": []
          },
          "execution_count": 26
        }
      ]
    },
    {
      "cell_type": "code",
      "metadata": {
        "id": "y0mqmMV5aEre"
      },
      "source": [
        "df_bike_sharing['duration_bike_idle'] = (df_bike_sharing['ride_start_time']-df_bike_sharing['previous_ride_end_time']).where(df_bike_sharing['bike_id'] == df_bike_sharing['previous_bike_id'])"
      ],
      "execution_count": null,
      "outputs": []
    },
    {
      "cell_type": "code",
      "metadata": {
        "id": "vjpFQGNQaVJH"
      },
      "source": [
        "#I drop previous_bike_id and previous_ride_end_time since they were intermediary outputs used for calculations.\n",
        "# They're not necessary for a final presentation of the critical details.\n",
        "df_bike_sharing['duration_bike_idle_seconds'] = df_bike_sharing['duration_bike_idle'].dt.total_seconds()"
      ],
      "execution_count": null,
      "outputs": []
    },
    {
      "cell_type": "markdown",
      "metadata": {
        "id": "e85dIdrUamE6"
      },
      "source": [
        "Here is the average seconds each bike_id is idle during the day in seconds between the first and last ride. I group by the bike_id column and calculate the mean of the duration_bike_idle_seconds_time column. I reset the index and rename the columns so this final output is easier to understand.\n",
        "\n",
        "Bike id of 22 was left idle longer between rides than the bike id of 1.\n"
      ]
    },
    {
      "cell_type": "code",
      "metadata": {
        "colab": {
          "base_uri": "https://localhost:8080/",
          "height": 111
        },
        "id": "TIYNrK63af-i",
        "outputId": "a6fea2c5-2f59-49ec-c741-2d632f4ab46f"
      },
      "source": [
        "df_bike_sharing.groupby('bike_id')['duration_bike_idle_seconds'].mean().reset_index().rename(columns={'duration_bike_idle_seconds': 'avg_seconds_idle_between_rides'})"
      ],
      "execution_count": null,
      "outputs": [
        {
          "output_type": "execute_result",
          "data": {
            "text/html": [
              "<div>\n",
              "<style scoped>\n",
              "    .dataframe tbody tr th:only-of-type {\n",
              "        vertical-align: middle;\n",
              "    }\n",
              "\n",
              "    .dataframe tbody tr th {\n",
              "        vertical-align: top;\n",
              "    }\n",
              "\n",
              "    .dataframe thead th {\n",
              "        text-align: right;\n",
              "    }\n",
              "</style>\n",
              "<table border=\"1\" class=\"dataframe\">\n",
              "  <thead>\n",
              "    <tr style=\"text-align: right;\">\n",
              "      <th></th>\n",
              "      <th>bike_id</th>\n",
              "      <th>avg_seconds_idle_between_rides</th>\n",
              "    </tr>\n",
              "  </thead>\n",
              "  <tbody>\n",
              "    <tr>\n",
              "      <th>0</th>\n",
              "      <td>1</td>\n",
              "      <td>5490.0</td>\n",
              "    </tr>\n",
              "    <tr>\n",
              "      <th>1</th>\n",
              "      <td>22</td>\n",
              "      <td>8640.0</td>\n",
              "    </tr>\n",
              "  </tbody>\n",
              "</table>\n",
              "</div>"
            ],
            "text/plain": [
              "   bike_id  avg_seconds_idle_between_rides\n",
              "0        1                          5490.0\n",
              "1       22                          8640.0"
            ]
          },
          "metadata": {
            "tags": []
          },
          "execution_count": 29
        }
      ]
    },
    {
      "cell_type": "code",
      "metadata": {
        "id": "bjck6553alMl"
      },
      "source": [
        ""
      ],
      "execution_count": null,
      "outputs": []
    },
    {
      "cell_type": "markdown",
      "metadata": {
        "id": "oNfuMZXZIH92"
      },
      "source": [
        "# Air Quality Data"
      ]
    },
    {
      "cell_type": "code",
      "metadata": {
        "colab": {
          "base_uri": "https://localhost:8080/"
        },
        "id": "O6mP0lTkIau0",
        "outputId": "46577dc6-7920-4e72-9b62-a9944b0241cc"
      },
      "source": [
        "#!wget https://github.com/pandas-dev/pandas/blob/master/doc/data/air_quality_no2_long.csv"
      ],
      "execution_count": 1,
      "outputs": [
        {
          "output_type": "stream",
          "text": [
            "--2021-05-19 19:37:58--  https://github.com/pandas-dev/pandas/blob/master/doc/data/air_quality_no2_long.csv\n",
            "Resolving github.com (github.com)... 140.82.113.4\n",
            "Connecting to github.com (github.com)|140.82.113.4|:443... connected.\n",
            "HTTP request sent, awaiting response... 200 OK\n",
            "Length: unspecified [text/html]\n",
            "Saving to: ‘air_quality_no2_long.csv’\n",
            "\n",
            "air_quality_no2_lon     [ <=>                ] 881.89K  --.-KB/s    in 0.08s   \n",
            "\n",
            "2021-05-19 19:37:58 (11.2 MB/s) - ‘air_quality_no2_long.csv’ saved [903051]\n",
            "\n"
          ],
          "name": "stdout"
        }
      ]
    },
    {
      "cell_type": "code",
      "metadata": {
        "id": "lbrEXgHcI2Bn"
      },
      "source": [
        "import pandas as pd\n",
        "import matplotlib.pyplot as plt\n",
        "import numpy as np\n"
      ],
      "execution_count": 3,
      "outputs": []
    },
    {
      "cell_type": "code",
      "metadata": {
        "colab": {
          "base_uri": "https://localhost:8080/",
          "height": 204
        },
        "id": "NixaCyhKIkdx",
        "outputId": "f75f42c7-ae63-4f98-ee37-d1aaa946c173"
      },
      "source": [
        "data = pd.read_csv(\"https://raw.githubusercontent.com/pandas-dev/pandas/master/doc/data/air_quality_no2_long.csv\")\n",
        "#parse_dates can be used\n",
        "data.head()"
      ],
      "execution_count": 11,
      "outputs": [
        {
          "output_type": "execute_result",
          "data": {
            "text/html": [
              "<div>\n",
              "<style scoped>\n",
              "    .dataframe tbody tr th:only-of-type {\n",
              "        vertical-align: middle;\n",
              "    }\n",
              "\n",
              "    .dataframe tbody tr th {\n",
              "        vertical-align: top;\n",
              "    }\n",
              "\n",
              "    .dataframe thead th {\n",
              "        text-align: right;\n",
              "    }\n",
              "</style>\n",
              "<table border=\"1\" class=\"dataframe\">\n",
              "  <thead>\n",
              "    <tr style=\"text-align: right;\">\n",
              "      <th></th>\n",
              "      <th>city</th>\n",
              "      <th>country</th>\n",
              "      <th>date.utc</th>\n",
              "      <th>location</th>\n",
              "      <th>parameter</th>\n",
              "      <th>value</th>\n",
              "      <th>unit</th>\n",
              "    </tr>\n",
              "  </thead>\n",
              "  <tbody>\n",
              "    <tr>\n",
              "      <th>0</th>\n",
              "      <td>Paris</td>\n",
              "      <td>FR</td>\n",
              "      <td>2019-06-21 00:00:00+00:00</td>\n",
              "      <td>FR04014</td>\n",
              "      <td>no2</td>\n",
              "      <td>20.0</td>\n",
              "      <td>µg/m³</td>\n",
              "    </tr>\n",
              "    <tr>\n",
              "      <th>1</th>\n",
              "      <td>Paris</td>\n",
              "      <td>FR</td>\n",
              "      <td>2019-06-20 23:00:00+00:00</td>\n",
              "      <td>FR04014</td>\n",
              "      <td>no2</td>\n",
              "      <td>21.8</td>\n",
              "      <td>µg/m³</td>\n",
              "    </tr>\n",
              "    <tr>\n",
              "      <th>2</th>\n",
              "      <td>Paris</td>\n",
              "      <td>FR</td>\n",
              "      <td>2019-06-20 22:00:00+00:00</td>\n",
              "      <td>FR04014</td>\n",
              "      <td>no2</td>\n",
              "      <td>26.5</td>\n",
              "      <td>µg/m³</td>\n",
              "    </tr>\n",
              "    <tr>\n",
              "      <th>3</th>\n",
              "      <td>Paris</td>\n",
              "      <td>FR</td>\n",
              "      <td>2019-06-20 21:00:00+00:00</td>\n",
              "      <td>FR04014</td>\n",
              "      <td>no2</td>\n",
              "      <td>24.9</td>\n",
              "      <td>µg/m³</td>\n",
              "    </tr>\n",
              "    <tr>\n",
              "      <th>4</th>\n",
              "      <td>Paris</td>\n",
              "      <td>FR</td>\n",
              "      <td>2019-06-20 20:00:00+00:00</td>\n",
              "      <td>FR04014</td>\n",
              "      <td>no2</td>\n",
              "      <td>21.4</td>\n",
              "      <td>µg/m³</td>\n",
              "    </tr>\n",
              "  </tbody>\n",
              "</table>\n",
              "</div>"
            ],
            "text/plain": [
              "    city country                   date.utc location parameter  value   unit\n",
              "0  Paris      FR  2019-06-21 00:00:00+00:00  FR04014       no2   20.0  µg/m³\n",
              "1  Paris      FR  2019-06-20 23:00:00+00:00  FR04014       no2   21.8  µg/m³\n",
              "2  Paris      FR  2019-06-20 22:00:00+00:00  FR04014       no2   26.5  µg/m³\n",
              "3  Paris      FR  2019-06-20 21:00:00+00:00  FR04014       no2   24.9  µg/m³\n",
              "4  Paris      FR  2019-06-20 20:00:00+00:00  FR04014       no2   21.4  µg/m³"
            ]
          },
          "metadata": {
            "tags": []
          },
          "execution_count": 11
        }
      ]
    },
    {
      "cell_type": "code",
      "metadata": {
        "colab": {
          "base_uri": "https://localhost:8080/"
        },
        "id": "cUgxI7u4Iy4e",
        "outputId": "f6b35663-1a98-4e69-b9aa-13723b64bcc0"
      },
      "source": [
        "data.info()"
      ],
      "execution_count": 18,
      "outputs": [
        {
          "output_type": "stream",
          "text": [
            "<class 'pandas.core.frame.DataFrame'>\n",
            "RangeIndex: 2068 entries, 0 to 2067\n",
            "Data columns (total 7 columns):\n",
            " #   Column     Non-Null Count  Dtype  \n",
            "---  ------     --------------  -----  \n",
            " 0   city       2068 non-null   object \n",
            " 1   country    2068 non-null   object \n",
            " 2   datetime   2068 non-null   object \n",
            " 3   location   2068 non-null   object \n",
            " 4   parameter  2068 non-null   object \n",
            " 5   value      2068 non-null   float64\n",
            " 6   unit       2068 non-null   object \n",
            "dtypes: float64(1), object(6)\n",
            "memory usage: 113.2+ KB\n"
          ],
          "name": "stdout"
        }
      ]
    },
    {
      "cell_type": "code",
      "metadata": {
        "id": "_jsEzZIYLdst"
      },
      "source": [
        "data.rename(columns={\"date.utc\" : \"datetime\"}, inplace=True)"
      ],
      "execution_count": 17,
      "outputs": []
    },
    {
      "cell_type": "code",
      "metadata": {
        "colab": {
          "base_uri": "https://localhost:8080/"
        },
        "id": "MkNVkxBwLtdH",
        "outputId": "acc5a2c9-c881-4784-ff61-baf57a1d0b27"
      },
      "source": [
        "data.city.unique()"
      ],
      "execution_count": 19,
      "outputs": [
        {
          "output_type": "execute_result",
          "data": {
            "text/plain": [
              "array(['Paris', 'Antwerpen', 'London'], dtype=object)"
            ]
          },
          "metadata": {
            "tags": []
          },
          "execution_count": 19
        }
      ]
    },
    {
      "cell_type": "code",
      "metadata": {
        "colab": {
          "base_uri": "https://localhost:8080/"
        },
        "id": "8MburFikL0ic",
        "outputId": "d5036a0f-39ce-4afb-b974-1e4a496c9757"
      },
      "source": [
        "data.nunique()"
      ],
      "execution_count": 20,
      "outputs": [
        {
          "output_type": "execute_result",
          "data": {
            "text/plain": [
              "city            3\n",
              "country         3\n",
              "datetime     1033\n",
              "location        3\n",
              "parameter       1\n",
              "value         458\n",
              "unit            1\n",
              "dtype: int64"
            ]
          },
          "metadata": {
            "tags": []
          },
          "execution_count": 20
        }
      ]
    },
    {
      "cell_type": "code",
      "metadata": {
        "id": "JEmQCy0-L2xm"
      },
      "source": [
        "data[\"datetime\"] = pd.to_datetime(data[\"datetime\"])"
      ],
      "execution_count": 21,
      "outputs": []
    },
    {
      "cell_type": "code",
      "metadata": {
        "colab": {
          "base_uri": "https://localhost:8080/"
        },
        "id": "ABypB3MyMCez",
        "outputId": "973dcff0-6a50-4a52-eda3-3febb72010af"
      },
      "source": [
        "data[\"datetime\"]"
      ],
      "execution_count": 22,
      "outputs": [
        {
          "output_type": "execute_result",
          "data": {
            "text/plain": [
              "0      2019-06-21 00:00:00+00:00\n",
              "1      2019-06-20 23:00:00+00:00\n",
              "2      2019-06-20 22:00:00+00:00\n",
              "3      2019-06-20 21:00:00+00:00\n",
              "4      2019-06-20 20:00:00+00:00\n",
              "                  ...           \n",
              "2063   2019-05-07 06:00:00+00:00\n",
              "2064   2019-05-07 04:00:00+00:00\n",
              "2065   2019-05-07 03:00:00+00:00\n",
              "2066   2019-05-07 02:00:00+00:00\n",
              "2067   2019-05-07 01:00:00+00:00\n",
              "Name: datetime, Length: 2068, dtype: datetime64[ns, UTC]"
            ]
          },
          "metadata": {
            "tags": []
          },
          "execution_count": 22
        }
      ]
    },
    {
      "cell_type": "code",
      "metadata": {
        "colab": {
          "base_uri": "https://localhost:8080/"
        },
        "id": "2exCf4gEMZrP",
        "outputId": "e81268d1-5612-4b97-9e0a-ddc122e5eec4"
      },
      "source": [
        "start, end =data[\"datetime\"].min(), data[\"datetime\"].max()\n",
        "print(start, end)"
      ],
      "execution_count": 23,
      "outputs": [
        {
          "output_type": "stream",
          "text": [
            "2019-05-07 01:00:00+00:00 2019-06-21 00:00:00+00:00\n"
          ],
          "name": "stdout"
        }
      ]
    },
    {
      "cell_type": "code",
      "metadata": {
        "colab": {
          "base_uri": "https://localhost:8080/"
        },
        "id": "knriTkcENB2R",
        "outputId": "4ee2f97f-b0e0-44e7-b782-212e580d53d6"
      },
      "source": [
        "#to calculate with date information and make them comparable\n",
        "diff = end - start\n",
        "diff"
      ],
      "execution_count": 26,
      "outputs": [
        {
          "output_type": "execute_result",
          "data": {
            "text/plain": [
              "Timedelta('44 days 23:00:00')"
            ]
          },
          "metadata": {
            "tags": []
          },
          "execution_count": 26
        }
      ]
    },
    {
      "cell_type": "code",
      "metadata": {
        "id": "OWNvKAoINS4r"
      },
      "source": [
        "#creating new column from date\n",
        "data[\"month\"] = data[\"datetime\"].dt.month"
      ],
      "execution_count": 27,
      "outputs": []
    },
    {
      "cell_type": "code",
      "metadata": {
        "colab": {
          "base_uri": "https://localhost:8080/",
          "height": 204
        },
        "id": "1QGGSKeYNrnG",
        "outputId": "8f785cfa-6473-47fd-af40-f4bef77bfb67"
      },
      "source": [
        "data.head()"
      ],
      "execution_count": 28,
      "outputs": [
        {
          "output_type": "execute_result",
          "data": {
            "text/html": [
              "<div>\n",
              "<style scoped>\n",
              "    .dataframe tbody tr th:only-of-type {\n",
              "        vertical-align: middle;\n",
              "    }\n",
              "\n",
              "    .dataframe tbody tr th {\n",
              "        vertical-align: top;\n",
              "    }\n",
              "\n",
              "    .dataframe thead th {\n",
              "        text-align: right;\n",
              "    }\n",
              "</style>\n",
              "<table border=\"1\" class=\"dataframe\">\n",
              "  <thead>\n",
              "    <tr style=\"text-align: right;\">\n",
              "      <th></th>\n",
              "      <th>city</th>\n",
              "      <th>country</th>\n",
              "      <th>datetime</th>\n",
              "      <th>location</th>\n",
              "      <th>parameter</th>\n",
              "      <th>value</th>\n",
              "      <th>unit</th>\n",
              "      <th>month</th>\n",
              "    </tr>\n",
              "  </thead>\n",
              "  <tbody>\n",
              "    <tr>\n",
              "      <th>0</th>\n",
              "      <td>Paris</td>\n",
              "      <td>FR</td>\n",
              "      <td>2019-06-21 00:00:00+00:00</td>\n",
              "      <td>FR04014</td>\n",
              "      <td>no2</td>\n",
              "      <td>20.0</td>\n",
              "      <td>µg/m³</td>\n",
              "      <td>6</td>\n",
              "    </tr>\n",
              "    <tr>\n",
              "      <th>1</th>\n",
              "      <td>Paris</td>\n",
              "      <td>FR</td>\n",
              "      <td>2019-06-20 23:00:00+00:00</td>\n",
              "      <td>FR04014</td>\n",
              "      <td>no2</td>\n",
              "      <td>21.8</td>\n",
              "      <td>µg/m³</td>\n",
              "      <td>6</td>\n",
              "    </tr>\n",
              "    <tr>\n",
              "      <th>2</th>\n",
              "      <td>Paris</td>\n",
              "      <td>FR</td>\n",
              "      <td>2019-06-20 22:00:00+00:00</td>\n",
              "      <td>FR04014</td>\n",
              "      <td>no2</td>\n",
              "      <td>26.5</td>\n",
              "      <td>µg/m³</td>\n",
              "      <td>6</td>\n",
              "    </tr>\n",
              "    <tr>\n",
              "      <th>3</th>\n",
              "      <td>Paris</td>\n",
              "      <td>FR</td>\n",
              "      <td>2019-06-20 21:00:00+00:00</td>\n",
              "      <td>FR04014</td>\n",
              "      <td>no2</td>\n",
              "      <td>24.9</td>\n",
              "      <td>µg/m³</td>\n",
              "      <td>6</td>\n",
              "    </tr>\n",
              "    <tr>\n",
              "      <th>4</th>\n",
              "      <td>Paris</td>\n",
              "      <td>FR</td>\n",
              "      <td>2019-06-20 20:00:00+00:00</td>\n",
              "      <td>FR04014</td>\n",
              "      <td>no2</td>\n",
              "      <td>21.4</td>\n",
              "      <td>µg/m³</td>\n",
              "      <td>6</td>\n",
              "    </tr>\n",
              "  </tbody>\n",
              "</table>\n",
              "</div>"
            ],
            "text/plain": [
              "    city country                  datetime  ... value   unit  month\n",
              "0  Paris      FR 2019-06-21 00:00:00+00:00  ...  20.0  µg/m³      6\n",
              "1  Paris      FR 2019-06-20 23:00:00+00:00  ...  21.8  µg/m³      6\n",
              "2  Paris      FR 2019-06-20 22:00:00+00:00  ...  26.5  µg/m³      6\n",
              "3  Paris      FR 2019-06-20 21:00:00+00:00  ...  24.9  µg/m³      6\n",
              "4  Paris      FR 2019-06-20 20:00:00+00:00  ...  21.4  µg/m³      6\n",
              "\n",
              "[5 rows x 8 columns]"
            ]
          },
          "metadata": {
            "tags": []
          },
          "execution_count": 28
        }
      ]
    },
    {
      "cell_type": "code",
      "metadata": {
        "colab": {
          "base_uri": "https://localhost:8080/"
        },
        "id": "EwVNFz6ANusS",
        "outputId": "853ab129-67e6-4eea-9f6f-9947a385d6db"
      },
      "source": [
        "#What is the average NO2 concentration for each day of the week for each of the measurement locations?\n",
        "\n",
        "#using group by\n",
        "data.groupby([data[\"datetime\"].dt.weekday, \"location\"])[\"value\"].mean()\n",
        "#save it to new df if we want"
      ],
      "execution_count": 29,
      "outputs": [
        {
          "output_type": "execute_result",
          "data": {
            "text/plain": [
              "datetime  location          \n",
              "0         BETR801               27.875000\n",
              "          FR04014               24.856250\n",
              "          London Westminster    23.969697\n",
              "1         BETR801               22.214286\n",
              "          FR04014               30.999359\n",
              "          London Westminster    24.885714\n",
              "2         BETR801               21.125000\n",
              "          FR04014               29.165753\n",
              "          London Westminster    23.460432\n",
              "3         BETR801               27.500000\n",
              "          FR04014               28.600690\n",
              "          London Westminster    24.780142\n",
              "4         BETR801               28.400000\n",
              "          FR04014               31.617986\n",
              "          London Westminster    26.446809\n",
              "5         BETR801               33.500000\n",
              "          FR04014               25.266154\n",
              "          London Westminster    24.977612\n",
              "6         BETR801               21.896552\n",
              "          FR04014               23.274306\n",
              "          London Westminster    24.859155\n",
              "Name: value, dtype: float64"
            ]
          },
          "metadata": {
            "tags": []
          },
          "execution_count": 29
        }
      ]
    },
    {
      "cell_type": "markdown",
      "metadata": {
        "id": "JZJNBzY6OZ3K"
      },
      "source": [
        "Plot the typical NO2 pattern during the day of our time series of all stations together. In other words, what is the average value for each hour of the day?"
      ]
    },
    {
      "cell_type": "code",
      "metadata": {
        "colab": {
          "base_uri": "https://localhost:8080/",
          "height": 279
        },
        "id": "NZO-0oMaOIbK",
        "outputId": "84c03e12-ab81-4b98-d7d6-251043232a41"
      },
      "source": [
        "fig, axs = plt.subplots(figsize=(12, 4))\n",
        "\n",
        "data.groupby(data[\"datetime\"].dt.hour)[\"value\"].mean().plot(kind='bar',rot=0, ax=axs)\n",
        "plt.xlabel(\"Hour of the day\");  # custom x label using matplotlib\n",
        "plt.ylabel(\"$NO_2 (µg/m^3)$\");"
      ],
      "execution_count": 32,
      "outputs": [
        {
          "output_type": "display_data",
          "data": {
            "image/png": "[encoded data removed]",
            "text/plain": [
              "<Figure size 864x288 with 1 Axes>"
            ]
          },
          "metadata": {
            "tags": [],
            "needs_background": "light"
          }
        }
      ]
    },
    {
      "cell_type": "markdown",
      "metadata": {
        "id": "uFR8PQWpPG3l"
      },
      "source": [
        "#datetime index\n",
        "\n",
        "to reshape the data table with each of the measurements locations as a separate column"
      ]
    },
    {
      "cell_type": "code",
      "metadata": {
        "colab": {
          "base_uri": "https://localhost:8080/",
          "height": 235
        },
        "id": "_1cFmfJHOyeZ",
        "outputId": "8bc0d579-4f03-48a1-eb7f-6f0889b83dd1"
      },
      "source": [
        "no_2 = data.pivot(index=\"datetime\", columns=\"location\", values=\"value\")\n",
        "no_2.head()"
      ],
      "execution_count": 33,
      "outputs": [
        {
          "output_type": "execute_result",
          "data": {
            "text/html": [
              "<div>\n",
              "<style scoped>\n",
              "    .dataframe tbody tr th:only-of-type {\n",
              "        vertical-align: middle;\n",
              "    }\n",
              "\n",
              "    .dataframe tbody tr th {\n",
              "        vertical-align: top;\n",
              "    }\n",
              "\n",
              "    .dataframe thead th {\n",
              "        text-align: right;\n",
              "    }\n",
              "</style>\n",
              "<table border=\"1\" class=\"dataframe\">\n",
              "  <thead>\n",
              "    <tr style=\"text-align: right;\">\n",
              "      <th>location</th>\n",
              "      <th>BETR801</th>\n",
              "      <th>FR04014</th>\n",
              "      <th>London Westminster</th>\n",
              "    </tr>\n",
              "    <tr>\n",
              "      <th>datetime</th>\n",
              "      <th></th>\n",
              "      <th></th>\n",
              "      <th></th>\n",
              "    </tr>\n",
              "  </thead>\n",
              "  <tbody>\n",
              "    <tr>\n",
              "      <th>2019-05-07 01:00:00+00:00</th>\n",
              "      <td>50.5</td>\n",
              "      <td>25.0</td>\n",
              "      <td>23.0</td>\n",
              "    </tr>\n",
              "    <tr>\n",
              "      <th>2019-05-07 02:00:00+00:00</th>\n",
              "      <td>45.0</td>\n",
              "      <td>27.7</td>\n",
              "      <td>19.0</td>\n",
              "    </tr>\n",
              "    <tr>\n",
              "      <th>2019-05-07 03:00:00+00:00</th>\n",
              "      <td>NaN</td>\n",
              "      <td>50.4</td>\n",
              "      <td>19.0</td>\n",
              "    </tr>\n",
              "    <tr>\n",
              "      <th>2019-05-07 04:00:00+00:00</th>\n",
              "      <td>NaN</td>\n",
              "      <td>61.9</td>\n",
              "      <td>16.0</td>\n",
              "    </tr>\n",
              "    <tr>\n",
              "      <th>2019-05-07 05:00:00+00:00</th>\n",
              "      <td>NaN</td>\n",
              "      <td>72.4</td>\n",
              "      <td>NaN</td>\n",
              "    </tr>\n",
              "  </tbody>\n",
              "</table>\n",
              "</div>"
            ],
            "text/plain": [
              "location                   BETR801  FR04014  London Westminster\n",
              "datetime                                                       \n",
              "2019-05-07 01:00:00+00:00     50.5     25.0                23.0\n",
              "2019-05-07 02:00:00+00:00     45.0     27.7                19.0\n",
              "2019-05-07 03:00:00+00:00      NaN     50.4                19.0\n",
              "2019-05-07 04:00:00+00:00      NaN     61.9                16.0\n",
              "2019-05-07 05:00:00+00:00      NaN     72.4                 NaN"
            ]
          },
          "metadata": {
            "tags": []
          },
          "execution_count": 33
        }
      ]
    },
    {
      "cell_type": "code",
      "metadata": {
        "colab": {
          "base_uri": "https://localhost:8080/"
        },
        "id": "PkALYJeBPU1K",
        "outputId": "8de38331-970c-4f70-b1ec-ed74d58f37f8"
      },
      "source": [
        "no_2.index.year, no_2.index.weekday"
      ],
      "execution_count": 34,
      "outputs": [
        {
          "output_type": "execute_result",
          "data": {
            "text/plain": [
              "(Int64Index([2019, 2019, 2019, 2019, 2019, 2019, 2019, 2019, 2019, 2019,\n",
              "             ...\n",
              "             2019, 2019, 2019, 2019, 2019, 2019, 2019, 2019, 2019, 2019],\n",
              "            dtype='int64', name='datetime', length=1033),\n",
              " Int64Index([1, 1, 1, 1, 1, 1, 1, 1, 1, 1,\n",
              "             ...\n",
              "             3, 3, 3, 3, 3, 3, 3, 3, 3, 4],\n",
              "            dtype='int64', name='datetime', length=1033))"
            ]
          },
          "metadata": {
            "tags": []
          },
          "execution_count": 34
        }
      ]
    },
    {
      "cell_type": "markdown",
      "metadata": {
        "id": "XngohQP9Pkyc"
      },
      "source": [
        "Create a plot of the NO2 values in the different stations from the 20th of May till the end of 21st of May"
      ]
    },
    {
      "cell_type": "code",
      "metadata": {
        "colab": {
          "base_uri": "https://localhost:8080/",
          "height": 320
        },
        "id": "P6iceq3oPexD",
        "outputId": "85111d85-e443-4eba-971a-9fbcf754ae78"
      },
      "source": [
        "no_2[\"2019-05-20\":\"2019-05-21\"].plot()"
      ],
      "execution_count": 35,
      "outputs": [
        {
          "output_type": "execute_result",
          "data": {
            "text/plain": [
              "<matplotlib.axes._subplots.AxesSubplot at 0x7fdf550a1490>"
            ]
          },
          "metadata": {
            "tags": []
          },
          "execution_count": 35
        },
        {
          "output_type": "display_data",
          "data": {
            "image/png": "[encoded data removed]",
            "text/plain": [
              "<Figure size 432x288 with 1 Axes>"
            ]
          },
          "metadata": {
            "tags": [],
            "needs_background": "light"
          }
        }
      ]
    },
    {
      "cell_type": "markdown",
      "metadata": {
        "id": "QjQ7HujKPtor"
      },
      "source": [
        "Resample a time series to another frequency\n",
        "\n",
        "Aggregate the current hourly time series values to the monthly maximum value in each of the stations."
      ]
    },
    {
      "cell_type": "code",
      "metadata": {
        "colab": {
          "base_uri": "https://localhost:8080/",
          "height": 142
        },
        "id": "riUMyDmLPpkJ",
        "outputId": "b04f0b09-8758-488c-d1a2-4c6cce43f534"
      },
      "source": [
        "monthly_max = no_2.resample(\"M\").max()\n",
        "monthly_max"
      ],
      "execution_count": 36,
      "outputs": [
        {
          "output_type": "execute_result",
          "data": {
            "text/html": [
              "<div>\n",
              "<style scoped>\n",
              "    .dataframe tbody tr th:only-of-type {\n",
              "        vertical-align: middle;\n",
              "    }\n",
              "\n",
              "    .dataframe tbody tr th {\n",
              "        vertical-align: top;\n",
              "    }\n",
              "\n",
              "    .dataframe thead th {\n",
              "        text-align: right;\n",
              "    }\n",
              "</style>\n",
              "<table border=\"1\" class=\"dataframe\">\n",
              "  <thead>\n",
              "    <tr style=\"text-align: right;\">\n",
              "      <th>location</th>\n",
              "      <th>BETR801</th>\n",
              "      <th>FR04014</th>\n",
              "      <th>London Westminster</th>\n",
              "    </tr>\n",
              "    <tr>\n",
              "      <th>datetime</th>\n",
              "      <th></th>\n",
              "      <th></th>\n",
              "      <th></th>\n",
              "    </tr>\n",
              "  </thead>\n",
              "  <tbody>\n",
              "    <tr>\n",
              "      <th>2019-05-31 00:00:00+00:00</th>\n",
              "      <td>74.5</td>\n",
              "      <td>97.0</td>\n",
              "      <td>97.0</td>\n",
              "    </tr>\n",
              "    <tr>\n",
              "      <th>2019-06-30 00:00:00+00:00</th>\n",
              "      <td>52.5</td>\n",
              "      <td>84.7</td>\n",
              "      <td>52.0</td>\n",
              "    </tr>\n",
              "  </tbody>\n",
              "</table>\n",
              "</div>"
            ],
            "text/plain": [
              "location                   BETR801  FR04014  London Westminster\n",
              "datetime                                                       \n",
              "2019-05-31 00:00:00+00:00     74.5     97.0                97.0\n",
              "2019-06-30 00:00:00+00:00     52.5     84.7                52.0"
            ]
          },
          "metadata": {
            "tags": []
          },
          "execution_count": 36
        }
      ]
    },
    {
      "cell_type": "code",
      "metadata": {
        "colab": {
          "base_uri": "https://localhost:8080/"
        },
        "id": "tRTUpm-pP2MO",
        "outputId": "56430a5d-4a2c-4882-c29d-c58ae86d1874"
      },
      "source": [
        "# the frequency of the time series is provided by the freq attribute:\n",
        "\n",
        "monthly_max.index.freq"
      ],
      "execution_count": 37,
      "outputs": [
        {
          "output_type": "execute_result",
          "data": {
            "text/plain": [
              "<MonthEnd>"
            ]
          },
          "metadata": {
            "tags": []
          },
          "execution_count": 37
        }
      ]
    },
    {
      "cell_type": "code",
      "metadata": {
        "colab": {
          "base_uri": "https://localhost:8080/",
          "height": 369
        },
        "id": "wxnbi8icQDiR",
        "outputId": "a1cc5bb8-9dc0-4494-f503-bcb920e48240"
      },
      "source": [
        "#Make a plot of the daily mean NO2 value in each of the stations.\n",
        "\n",
        "no_2.resample(\"D\").mean().plot(style=\"-o\", figsize=(10, 5));"
      ],
      "execution_count": 38,
      "outputs": [
        {
          "output_type": "display_data",
          "data": {
            "image/png": "[encoded data removed]",
            "text/plain": [
              "<Figure size 720x360 with 1 Axes>"
            ]
          },
          "metadata": {
            "tags": [],
            "needs_background": "light"
          }
        }
      ]
    },
    {
      "cell_type": "code",
      "metadata": {
        "colab": {
          "base_uri": "https://localhost:8080/"
        },
        "id": "Zow-YDwiQJo-",
        "outputId": "09d24089-210c-4c21-c378-257c4c4c2c40"
      },
      "source": [
        "#gGenerate sequences of fixed-frequency dates and time spans\n",
        "dti = pd.date_range(\"2018-01-01\", periods=3, freq=\"H\")\n",
        "dti"
      ],
      "execution_count": 39,
      "outputs": [
        {
          "output_type": "execute_result",
          "data": {
            "text/plain": [
              "DatetimeIndex(['2018-01-01 00:00:00', '2018-01-01 01:00:00',\n",
              "               '2018-01-01 02:00:00'],\n",
              "              dtype='datetime64[ns]', freq='H')"
            ]
          },
          "metadata": {
            "tags": []
          },
          "execution_count": 39
        }
      ]
    },
    {
      "cell_type": "code",
      "metadata": {
        "id": "6PqGlIlvQkkE"
      },
      "source": [
        ""
      ],
      "execution_count": null,
      "outputs": []
    }
  ]
}