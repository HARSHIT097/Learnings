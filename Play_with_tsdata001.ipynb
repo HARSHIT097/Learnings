{
  "nbformat": 4,
  "nbformat_minor": 0,
  "metadata": {
    "colab": {
      "name": "Play_with_tsdata001.ipynb",
      "provenance": [],
      "authorship_tag": "ABX9TyMmreMAQvxx3Nz+ZT9bHEuR",
      "include_colab_link": true
    },
    "kernelspec": {
      "name": "python3",
      "display_name": "Python 3"
    },
    "language_info": {
      "name": "python"
    }
  },
  "cells": [
    {
      "cell_type": "markdown",
      "metadata": {
        "id": "view-in-github",
        "colab_type": "text"
      },
      "source": [
        "<a href=\"https://colab.research.google.com/github/HARSHIT097/Learnings/blob/main/Play_with_tsdata001.ipynb\" target=\"_parent\"><img src=\"https://colab.research.google.com/assets/colab-badge.svg\" alt=\"Open In Colab\"/></a>"
      ]
    },
    {
      "cell_type": "code",
      "metadata": {
        "id": "Jn7HHSdc0Kcn"
      },
      "source": [
        "import pandas as pd\n",
        "import datetime\n",
        "import random\n",
        "import numpy as np"
      ],
      "execution_count": null,
      "outputs": []
    },
    {
      "cell_type": "markdown",
      "metadata": {
        "id": "FP5p6wgsbKco"
      },
      "source": [
        "# Bike ride sharing data"
      ]
    },
    {
      "cell_type": "markdown",
      "metadata": {
        "id": "f68SulDJ0WJD"
      },
      "source": [
        "Create Bike Rides Data"
      ]
    },
    {
      "cell_type": "code",
      "metadata": {
        "id": "rNnPPZYO0VMX"
      },
      "source": [
        "random.seed(38)\n",
        "ride_start_time = datetime.datetime.today()\n",
        "ride_end_time = ride_start_time + datetime.timedelta(minutes=20)\n",
        "ride_start_times = []\n",
        "ride_end_times = []\n",
        "count_of_rides = 6\n",
        "\n",
        "for ride in range(count_of_rides):\n",
        "    minutes_between_rides = random.randint(8, 100)\n",
        "    ride_start_time = ride_end_time + datetime.timedelta(minutes=minutes_between_rides)\n",
        "    \n",
        "    minutes_riding = random.randint(5, 25)\n",
        "    ride_end_time = ride_start_time + datetime.timedelta(minutes=minutes_riding)\n",
        "    \n",
        "    ride_start_times.append(ride_start_time)\n",
        "    ride_end_times.append(ride_end_time)"
      ],
      "execution_count": null,
      "outputs": []
    },
    {
      "cell_type": "code",
      "metadata": {
        "id": "20BFab9N0l3J"
      },
      "source": [
        "data = {'ride_start_time': ride_start_times,\n",
        "        'ride_end_time':  ride_end_times\n",
        "       }\n",
        "df_bike_rides = pd.DataFrame(data)"
      ],
      "execution_count": null,
      "outputs": []
    },
    {
      "cell_type": "code",
      "metadata": {
        "colab": {
          "base_uri": "https://localhost:8080/",
          "height": 111
        },
        "id": "X23F2qBm0osQ",
        "outputId": "785ff4e0-c426-4dd0-c6cf-fea96802ef20"
      },
      "source": [
        "df_bike_rides.head(2)"
      ],
      "execution_count": null,
      "outputs": [
        {
          "output_type": "execute_result",
          "data": {
            "text/html": [
              "<div>\n",
              "<style scoped>\n",
              "    .dataframe tbody tr th:only-of-type {\n",
              "        vertical-align: middle;\n",
              "    }\n",
              "\n",
              "    .dataframe tbody tr th {\n",
              "        vertical-align: top;\n",
              "    }\n",
              "\n",
              "    .dataframe thead th {\n",
              "        text-align: right;\n",
              "    }\n",
              "</style>\n",
              "<table border=\"1\" class=\"dataframe\">\n",
              "  <thead>\n",
              "    <tr style=\"text-align: right;\">\n",
              "      <th></th>\n",
              "      <th>ride_start_time</th>\n",
              "      <th>ride_end_time</th>\n",
              "    </tr>\n",
              "  </thead>\n",
              "  <tbody>\n",
              "    <tr>\n",
              "      <th>0</th>\n",
              "      <td>2021-05-14 23:28:59.025882</td>\n",
              "      <td>2021-05-14 23:46:59.025882</td>\n",
              "    </tr>\n",
              "    <tr>\n",
              "      <th>1</th>\n",
              "      <td>2021-05-15 00:48:59.025882</td>\n",
              "      <td>2021-05-15 00:56:59.025882</td>\n",
              "    </tr>\n",
              "  </tbody>\n",
              "</table>\n",
              "</div>"
            ],
            "text/plain": [
              "             ride_start_time              ride_end_time\n",
              "0 2021-05-14 23:28:59.025882 2021-05-14 23:46:59.025882\n",
              "1 2021-05-15 00:48:59.025882 2021-05-15 00:56:59.025882"
            ]
          },
          "metadata": {
            "tags": []
          },
          "execution_count": 4
        }
      ]
    },
    {
      "cell_type": "markdown",
      "metadata": {
        "id": "QxoeyJJN1LiX"
      },
      "source": [
        ""
      ]
    },
    {
      "cell_type": "code",
      "metadata": {
        "id": "IKQLOmJS0sr-"
      },
      "source": [
        "#Find the Mean Duration of Time, in Minutes, Bike is Left Idle Between Rides"
      ],
      "execution_count": null,
      "outputs": []
    },
    {
      "cell_type": "code",
      "metadata": {
        "id": "QAQ4vVoS1J5g"
      },
      "source": [
        "df_bike_rides['previous_ride_end_time'] = df_bike_rides['ride_end_time'].shift(periods=1)"
      ],
      "execution_count": null,
      "outputs": []
    },
    {
      "cell_type": "code",
      "metadata": {
        "id": "QYrlQ4T71YOq"
      },
      "source": [
        "df_bike_rides['duration_bike_idle_between_rides'] = df_bike_rides['ride_start_time'] - df_bike_rides['previous_ride_end_time']"
      ],
      "execution_count": null,
      "outputs": []
    },
    {
      "cell_type": "code",
      "metadata": {
        "id": "sVQXqKwuY1nY"
      },
      "source": [
        "df_bike_rides['minutes_bike_idle_between_rides'] = df_bike_rides['duration_bike_idle_between_rides'].dt.total_seconds()/60"
      ],
      "execution_count": null,
      "outputs": []
    },
    {
      "cell_type": "code",
      "metadata": {
        "colab": {
          "base_uri": "https://localhost:8080/",
          "height": 111
        },
        "id": "ivio5dXd1VvN",
        "outputId": "19cfbbbd-8bfc-4333-fedb-6c4dd3a9665d"
      },
      "source": [
        "df_bike_rides.tail(2)"
      ],
      "execution_count": null,
      "outputs": [
        {
          "output_type": "execute_result",
          "data": {
            "text/html": [
              "<div>\n",
              "<style scoped>\n",
              "    .dataframe tbody tr th:only-of-type {\n",
              "        vertical-align: middle;\n",
              "    }\n",
              "\n",
              "    .dataframe tbody tr th {\n",
              "        vertical-align: top;\n",
              "    }\n",
              "\n",
              "    .dataframe thead th {\n",
              "        text-align: right;\n",
              "    }\n",
              "</style>\n",
              "<table border=\"1\" class=\"dataframe\">\n",
              "  <thead>\n",
              "    <tr style=\"text-align: right;\">\n",
              "      <th></th>\n",
              "      <th>ride_start_time</th>\n",
              "      <th>ride_end_time</th>\n",
              "      <th>previous_ride_end_time</th>\n",
              "      <th>duration_bike_idle_between_rides</th>\n",
              "      <th>minutes_bike_idle_between_rides</th>\n",
              "    </tr>\n",
              "  </thead>\n",
              "  <tbody>\n",
              "    <tr>\n",
              "      <th>4</th>\n",
              "      <td>2021-05-15 04:19:59.025882</td>\n",
              "      <td>2021-05-15 04:25:59.025882</td>\n",
              "      <td>2021-05-15 03:24:59.025882</td>\n",
              "      <td>0 days 00:55:00</td>\n",
              "      <td>55.0</td>\n",
              "    </tr>\n",
              "    <tr>\n",
              "      <th>5</th>\n",
              "      <td>2021-05-15 05:50:59.025882</td>\n",
              "      <td>2021-05-15 06:00:59.025882</td>\n",
              "      <td>2021-05-15 04:25:59.025882</td>\n",
              "      <td>0 days 01:25:00</td>\n",
              "      <td>85.0</td>\n",
              "    </tr>\n",
              "  </tbody>\n",
              "</table>\n",
              "</div>"
            ],
            "text/plain": [
              "             ride_start_time  ... minutes_bike_idle_between_rides\n",
              "4 2021-05-15 04:19:59.025882  ...                            55.0\n",
              "5 2021-05-15 05:50:59.025882  ...                            85.0\n",
              "\n",
              "[2 rows x 5 columns]"
            ]
          },
          "metadata": {
            "tags": []
          },
          "execution_count": 17
        }
      ]
    },
    {
      "cell_type": "code",
      "metadata": {
        "colab": {
          "base_uri": "https://localhost:8080/"
        },
        "id": "jEet9xGuYtHS",
        "outputId": "4ddfae5e-7f06-4452-d656-ae7f33348907"
      },
      "source": [
        "#calculate the mean minutes_bike_idle_between_rides \n",
        "avg_minutes_bikes_idle_between_rides = df_bike_rides['minutes_bike_idle_between_rides'].mean()\n",
        "avg_minutes_bikes_idle_between_rides"
      ],
      "execution_count": null,
      "outputs": [
        {
          "output_type": "execute_result",
          "data": {
            "text/plain": [
              "63.0"
            ]
          },
          "metadata": {
            "tags": []
          },
          "execution_count": 18
        }
      ]
    },
    {
      "cell_type": "markdown",
      "metadata": {
        "id": "SL7pwjgcZJLK"
      },
      "source": [
        "Duration Idle Time Between Bike Rides Per Unique Bike¶"
      ]
    },
    {
      "cell_type": "code",
      "metadata": {
        "id": "fXw0orWfZEyh"
      },
      "source": [
        "#create a pandas dataframe with details on bike ride times, the bike id and the start and end station.\n",
        "data = {'ride_start_time': ride_start_times,\n",
        "        'ride_end_time':  ride_end_times,\n",
        "        'bike_id': [1, 22, 1, 1, 22, 22],\n",
        "        'start_station': [\"21st & Folsom\", \"21st & Folsom\", \"4th & King\", \"24th & Valencia\", \"4th & King\",  \"16th and Mission\"],\n",
        "        'end_station':  [\"4th & King\", \"4th & King\", \"24th & Valencia\", \"Embarcadero & Market\",  \"16th and Mission\", \"4th & King\"]\n",
        "       }\n",
        "df_bike_sharing = pd.DataFrame(data)"
      ],
      "execution_count": null,
      "outputs": []
    },
    {
      "cell_type": "code",
      "metadata": {
        "id": "mCDPFEziZZbv"
      },
      "source": [
        "#sort df_bike_sharing first by the bike_id column and then the ride_start_time column.\n",
        "df_bike_sharing.sort_values(by=['bike_id', 'ride_start_time'], inplace=True)"
      ],
      "execution_count": null,
      "outputs": []
    },
    {
      "cell_type": "code",
      "metadata": {
        "colab": {
          "base_uri": "https://localhost:8080/",
          "height": 204
        },
        "id": "ZIiMIDGvZDeC",
        "outputId": "8a0d5f1b-285c-469f-f09a-69c551aac516"
      },
      "source": [
        "df_bike_sharing.head()"
      ],
      "execution_count": null,
      "outputs": [
        {
          "output_type": "execute_result",
          "data": {
            "text/html": [
              "<div>\n",
              "<style scoped>\n",
              "    .dataframe tbody tr th:only-of-type {\n",
              "        vertical-align: middle;\n",
              "    }\n",
              "\n",
              "    .dataframe tbody tr th {\n",
              "        vertical-align: top;\n",
              "    }\n",
              "\n",
              "    .dataframe thead th {\n",
              "        text-align: right;\n",
              "    }\n",
              "</style>\n",
              "<table border=\"1\" class=\"dataframe\">\n",
              "  <thead>\n",
              "    <tr style=\"text-align: right;\">\n",
              "      <th></th>\n",
              "      <th>ride_start_time</th>\n",
              "      <th>ride_end_time</th>\n",
              "      <th>bike_id</th>\n",
              "      <th>start_station</th>\n",
              "      <th>end_station</th>\n",
              "    </tr>\n",
              "  </thead>\n",
              "  <tbody>\n",
              "    <tr>\n",
              "      <th>0</th>\n",
              "      <td>2021-05-14 23:28:59.025882</td>\n",
              "      <td>2021-05-14 23:46:59.025882</td>\n",
              "      <td>1</td>\n",
              "      <td>21st &amp; Folsom</td>\n",
              "      <td>4th &amp; King</td>\n",
              "    </tr>\n",
              "    <tr>\n",
              "      <th>2</th>\n",
              "      <td>2021-05-15 01:12:59.025882</td>\n",
              "      <td>2021-05-15 01:28:59.025882</td>\n",
              "      <td>1</td>\n",
              "      <td>4th &amp; King</td>\n",
              "      <td>24th &amp; Valencia</td>\n",
              "    </tr>\n",
              "    <tr>\n",
              "      <th>3</th>\n",
              "      <td>2021-05-15 03:05:59.025882</td>\n",
              "      <td>2021-05-15 03:24:59.025882</td>\n",
              "      <td>1</td>\n",
              "      <td>24th &amp; Valencia</td>\n",
              "      <td>Embarcadero &amp; Market</td>\n",
              "    </tr>\n",
              "    <tr>\n",
              "      <th>1</th>\n",
              "      <td>2021-05-15 00:48:59.025882</td>\n",
              "      <td>2021-05-15 00:56:59.025882</td>\n",
              "      <td>22</td>\n",
              "      <td>21st &amp; Folsom</td>\n",
              "      <td>4th &amp; King</td>\n",
              "    </tr>\n",
              "    <tr>\n",
              "      <th>4</th>\n",
              "      <td>2021-05-15 04:19:59.025882</td>\n",
              "      <td>2021-05-15 04:25:59.025882</td>\n",
              "      <td>22</td>\n",
              "      <td>4th &amp; King</td>\n",
              "      <td>16th and Mission</td>\n",
              "    </tr>\n",
              "  </tbody>\n",
              "</table>\n",
              "</div>"
            ],
            "text/plain": [
              "             ride_start_time  ...           end_station\n",
              "0 2021-05-14 23:28:59.025882  ...            4th & King\n",
              "2 2021-05-15 01:12:59.025882  ...       24th & Valencia\n",
              "3 2021-05-15 03:05:59.025882  ...  Embarcadero & Market\n",
              "1 2021-05-15 00:48:59.025882  ...            4th & King\n",
              "4 2021-05-15 04:19:59.025882  ...      16th and Mission\n",
              "\n",
              "[5 rows x 5 columns]"
            ]
          },
          "metadata": {
            "tags": []
          },
          "execution_count": 22
        }
      ]
    },
    {
      "cell_type": "markdown",
      "metadata": {
        "id": "6Emh8ehpZucF"
      },
      "source": [
        "For the bike_id column, I shift down values by 1 to create a new column called previous_bike_id. I do this so I can easily compare a bike id to the previous ride's ID to identify the last ride by a bike id for a day.\n",
        "\n",
        "Similar to LAG()"
      ]
    },
    {
      "cell_type": "code",
      "metadata": {
        "id": "_EYn17mBZkXl"
      },
      "source": [
        "df_bike_sharing['previous_bike_id'] = df_bike_sharing['bike_id'].shift(periods=1)"
      ],
      "execution_count": null,
      "outputs": []
    },
    {
      "cell_type": "markdown",
      "metadata": {
        "id": "MOzIj8fKZ38c"
      },
      "source": [
        "SELECT *, LAG(bike_id) OVER (ORDER BY bike_id ASC, ride_start_time ASC) AS previous_bike_id\n",
        "FROM df_bike_sharing \n",
        "ORDER BY bike_id ASC, ride_start_time ASC"
      ]
    },
    {
      "cell_type": "code",
      "metadata": {
        "id": "j2bIDR69Zy-U"
      },
      "source": [
        "df_bike_sharing['previous_ride_end_time'] = df_bike_sharing['ride_end_time'].shift(periods=1)"
      ],
      "execution_count": null,
      "outputs": []
    },
    {
      "cell_type": "code",
      "metadata": {
        "colab": {
          "base_uri": "https://localhost:8080/",
          "height": 235
        },
        "id": "OJzW0GVHaAtb",
        "outputId": "f5abf11d-76c5-4761-a2e5-8569819c8b39"
      },
      "source": [
        "# to calculate a duration the bike was idle in a row if it's a comparison for the same bike id. Below I show the code to replace all values \n",
        "#in a row with NaN or NaT if the condition is false.\n",
        "df_bike_sharing.where(df_bike_sharing['bike_id'] == df_bike_sharing['previous_bike_id'])"
      ],
      "execution_count": null,
      "outputs": [
        {
          "output_type": "execute_result",
          "data": {
            "text/html": [
              "<div>\n",
              "<style scoped>\n",
              "    .dataframe tbody tr th:only-of-type {\n",
              "        vertical-align: middle;\n",
              "    }\n",
              "\n",
              "    .dataframe tbody tr th {\n",
              "        vertical-align: top;\n",
              "    }\n",
              "\n",
              "    .dataframe thead th {\n",
              "        text-align: right;\n",
              "    }\n",
              "</style>\n",
              "<table border=\"1\" class=\"dataframe\">\n",
              "  <thead>\n",
              "    <tr style=\"text-align: right;\">\n",
              "      <th></th>\n",
              "      <th>ride_start_time</th>\n",
              "      <th>ride_end_time</th>\n",
              "      <th>bike_id</th>\n",
              "      <th>start_station</th>\n",
              "      <th>end_station</th>\n",
              "      <th>previous_bike_id</th>\n",
              "      <th>previous_ride_end_time</th>\n",
              "    </tr>\n",
              "  </thead>\n",
              "  <tbody>\n",
              "    <tr>\n",
              "      <th>0</th>\n",
              "      <td>NaT</td>\n",
              "      <td>NaT</td>\n",
              "      <td>NaN</td>\n",
              "      <td>NaN</td>\n",
              "      <td>NaN</td>\n",
              "      <td>NaN</td>\n",
              "      <td>NaT</td>\n",
              "    </tr>\n",
              "    <tr>\n",
              "      <th>2</th>\n",
              "      <td>2021-05-15 01:12:59.025882</td>\n",
              "      <td>2021-05-15 01:28:59.025882</td>\n",
              "      <td>1.0</td>\n",
              "      <td>4th &amp; King</td>\n",
              "      <td>24th &amp; Valencia</td>\n",
              "      <td>1.0</td>\n",
              "      <td>2021-05-14 23:46:59.025882</td>\n",
              "    </tr>\n",
              "    <tr>\n",
              "      <th>3</th>\n",
              "      <td>2021-05-15 03:05:59.025882</td>\n",
              "      <td>2021-05-15 03:24:59.025882</td>\n",
              "      <td>1.0</td>\n",
              "      <td>24th &amp; Valencia</td>\n",
              "      <td>Embarcadero &amp; Market</td>\n",
              "      <td>1.0</td>\n",
              "      <td>2021-05-15 01:28:59.025882</td>\n",
              "    </tr>\n",
              "    <tr>\n",
              "      <th>1</th>\n",
              "      <td>NaT</td>\n",
              "      <td>NaT</td>\n",
              "      <td>NaN</td>\n",
              "      <td>NaN</td>\n",
              "      <td>NaN</td>\n",
              "      <td>NaN</td>\n",
              "      <td>NaT</td>\n",
              "    </tr>\n",
              "    <tr>\n",
              "      <th>4</th>\n",
              "      <td>2021-05-15 04:19:59.025882</td>\n",
              "      <td>2021-05-15 04:25:59.025882</td>\n",
              "      <td>22.0</td>\n",
              "      <td>4th &amp; King</td>\n",
              "      <td>16th and Mission</td>\n",
              "      <td>22.0</td>\n",
              "      <td>2021-05-15 00:56:59.025882</td>\n",
              "    </tr>\n",
              "    <tr>\n",
              "      <th>5</th>\n",
              "      <td>2021-05-15 05:50:59.025882</td>\n",
              "      <td>2021-05-15 06:00:59.025882</td>\n",
              "      <td>22.0</td>\n",
              "      <td>16th and Mission</td>\n",
              "      <td>4th &amp; King</td>\n",
              "      <td>22.0</td>\n",
              "      <td>2021-05-15 04:25:59.025882</td>\n",
              "    </tr>\n",
              "  </tbody>\n",
              "</table>\n",
              "</div>"
            ],
            "text/plain": [
              "             ride_start_time  ...     previous_ride_end_time\n",
              "0                        NaT  ...                        NaT\n",
              "2 2021-05-15 01:12:59.025882  ... 2021-05-14 23:46:59.025882\n",
              "3 2021-05-15 03:05:59.025882  ... 2021-05-15 01:28:59.025882\n",
              "1                        NaT  ...                        NaT\n",
              "4 2021-05-15 04:19:59.025882  ... 2021-05-15 00:56:59.025882\n",
              "5 2021-05-15 05:50:59.025882  ... 2021-05-15 04:25:59.025882\n",
              "\n",
              "[6 rows x 7 columns]"
            ]
          },
          "metadata": {
            "tags": []
          },
          "execution_count": 26
        }
      ]
    },
    {
      "cell_type": "code",
      "metadata": {
        "id": "y0mqmMV5aEre"
      },
      "source": [
        "df_bike_sharing['duration_bike_idle'] = (df_bike_sharing['ride_start_time']-df_bike_sharing['previous_ride_end_time']).where(df_bike_sharing['bike_id'] == df_bike_sharing['previous_bike_id'])"
      ],
      "execution_count": null,
      "outputs": []
    },
    {
      "cell_type": "code",
      "metadata": {
        "id": "vjpFQGNQaVJH"
      },
      "source": [
        "#I drop previous_bike_id and previous_ride_end_time since they were intermediary outputs used for calculations.\n",
        "# They're not necessary for a final presentation of the critical details.\n",
        "df_bike_sharing['duration_bike_idle_seconds'] = df_bike_sharing['duration_bike_idle'].dt.total_seconds()"
      ],
      "execution_count": null,
      "outputs": []
    },
    {
      "cell_type": "markdown",
      "metadata": {
        "id": "e85dIdrUamE6"
      },
      "source": [
        "Here is the average seconds each bike_id is idle during the day in seconds between the first and last ride. I group by the bike_id column and calculate the mean of the duration_bike_idle_seconds_time column. I reset the index and rename the columns so this final output is easier to understand.\n",
        "\n",
        "Bike id of 22 was left idle longer between rides than the bike id of 1.\n"
      ]
    },
    {
      "cell_type": "code",
      "metadata": {
        "colab": {
          "base_uri": "https://localhost:8080/",
          "height": 111
        },
        "id": "TIYNrK63af-i",
        "outputId": "a6fea2c5-2f59-49ec-c741-2d632f4ab46f"
      },
      "source": [
        "df_bike_sharing.groupby('bike_id')['duration_bike_idle_seconds'].mean().reset_index().rename(columns={'duration_bike_idle_seconds': 'avg_seconds_idle_between_rides'})"
      ],
      "execution_count": null,
      "outputs": [
        {
          "output_type": "execute_result",
          "data": {
            "text/html": [
              "<div>\n",
              "<style scoped>\n",
              "    .dataframe tbody tr th:only-of-type {\n",
              "        vertical-align: middle;\n",
              "    }\n",
              "\n",
              "    .dataframe tbody tr th {\n",
              "        vertical-align: top;\n",
              "    }\n",
              "\n",
              "    .dataframe thead th {\n",
              "        text-align: right;\n",
              "    }\n",
              "</style>\n",
              "<table border=\"1\" class=\"dataframe\">\n",
              "  <thead>\n",
              "    <tr style=\"text-align: right;\">\n",
              "      <th></th>\n",
              "      <th>bike_id</th>\n",
              "      <th>avg_seconds_idle_between_rides</th>\n",
              "    </tr>\n",
              "  </thead>\n",
              "  <tbody>\n",
              "    <tr>\n",
              "      <th>0</th>\n",
              "      <td>1</td>\n",
              "      <td>5490.0</td>\n",
              "    </tr>\n",
              "    <tr>\n",
              "      <th>1</th>\n",
              "      <td>22</td>\n",
              "      <td>8640.0</td>\n",
              "    </tr>\n",
              "  </tbody>\n",
              "</table>\n",
              "</div>"
            ],
            "text/plain": [
              "   bike_id  avg_seconds_idle_between_rides\n",
              "0        1                          5490.0\n",
              "1       22                          8640.0"
            ]
          },
          "metadata": {
            "tags": []
          },
          "execution_count": 29
        }
      ]
    },
    {
      "cell_type": "code",
      "metadata": {
        "id": "bjck6553alMl"
      },
      "source": [
        ""
      ],
      "execution_count": null,
      "outputs": []
    }
  ]
}